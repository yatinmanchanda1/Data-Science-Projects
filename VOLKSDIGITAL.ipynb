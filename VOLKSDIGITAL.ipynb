{
 "cells": [
  {
   "cell_type": "code",
   "execution_count": 127,
   "id": "fab1ff3e-59cd-4554-bc1d-81b0b95aaa51",
   "metadata": {},
   "outputs": [],
   "source": [
    "import pandas as pd\n",
    "import numpy as np\n",
    "import matplotlib.pyplot as plt \n",
    "import seaborn as sns\n",
    "import warnings\n",
    "warnings.filterwarnings('ignore')\n",
    "from scipy.stats import chi2_contingency\n",
    "from sklearn.model_selection import train_test_split\n",
    "from sklearn.tree import DecisionTreeClassifier\n",
    "from sklearn.ensemble import RandomForestClassifier,AdaBoostClassifier,GradientBoostingClassifier"
   ]
  },
  {
   "cell_type": "code",
   "execution_count": 2,
   "id": "fb9800b9-de17-4377-b1d4-75db294fc904",
   "metadata": {},
   "outputs": [
    {
     "data": {
      "text/html": [
       "<div>\n",
       "<style scoped>\n",
       "    .dataframe tbody tr th:only-of-type {\n",
       "        vertical-align: middle;\n",
       "    }\n",
       "\n",
       "    .dataframe tbody tr th {\n",
       "        vertical-align: top;\n",
       "    }\n",
       "\n",
       "    .dataframe thead th {\n",
       "        text-align: right;\n",
       "    }\n",
       "</style>\n",
       "<table border=\"1\" class=\"dataframe\">\n",
       "  <thead>\n",
       "    <tr style=\"text-align: right;\">\n",
       "      <th></th>\n",
       "      <th>ID</th>\n",
       "      <th>year_of_poll</th>\n",
       "      <th>own_self_emp</th>\n",
       "      <th>veteran benefits</th>\n",
       "      <th>currently_enrolled</th>\n",
       "      <th>race</th>\n",
       "      <th>father_country</th>\n",
       "      <th>educ</th>\n",
       "      <th>house_stat</th>\n",
       "      <th>major_ind_code</th>\n",
       "      <th>...</th>\n",
       "      <th>income_filled</th>\n",
       "      <th>weeks_worked</th>\n",
       "      <th>under18</th>\n",
       "      <th>hourly_wage</th>\n",
       "      <th>unemp_reason</th>\n",
       "      <th>citizenship</th>\n",
       "      <th>woker_type</th>\n",
       "      <th>fed_liability</th>\n",
       "      <th>full_partime_job</th>\n",
       "      <th>income</th>\n",
       "    </tr>\n",
       "  </thead>\n",
       "  <tbody>\n",
       "    <tr>\n",
       "      <th>0</th>\n",
       "      <td>0</td>\n",
       "      <td>2004</td>\n",
       "      <td>0</td>\n",
       "      <td>2</td>\n",
       "      <td>High school</td>\n",
       "      <td>White</td>\n",
       "      <td>United-States</td>\n",
       "      <td>Associates degree-academic program</td>\n",
       "      <td>Householder</td>\n",
       "      <td>Business and repair services</td>\n",
       "      <td>...</td>\n",
       "      <td>No</td>\n",
       "      <td>47</td>\n",
       "      <td>NaN</td>\n",
       "      <td>0.0</td>\n",
       "      <td>NaN</td>\n",
       "      <td>NB_US</td>\n",
       "      <td>Pvt</td>\n",
       "      <td>Joint_both_under65</td>\n",
       "      <td>Children/Armed_Forces</td>\n",
       "      <td>More than 50K $</td>\n",
       "    </tr>\n",
       "    <tr>\n",
       "      <th>1</th>\n",
       "      <td>1</td>\n",
       "      <td>2005</td>\n",
       "      <td>0</td>\n",
       "      <td>0</td>\n",
       "      <td>College/University</td>\n",
       "      <td>White</td>\n",
       "      <td>Japan</td>\n",
       "      <td>Children</td>\n",
       "      <td>Child &lt;18 never marr not in subfamily</td>\n",
       "      <td>Not in universe or children</td>\n",
       "      <td>...</td>\n",
       "      <td>No</td>\n",
       "      <td>0</td>\n",
       "      <td>Both_Pr</td>\n",
       "      <td>0.0</td>\n",
       "      <td>NaN</td>\n",
       "      <td>NB_US</td>\n",
       "      <td>NaN</td>\n",
       "      <td>Nonfiler</td>\n",
       "      <td>Children/Armed_Forces</td>\n",
       "      <td>More than 50K $</td>\n",
       "    </tr>\n",
       "    <tr>\n",
       "      <th>2</th>\n",
       "      <td>2</td>\n",
       "      <td>2004</td>\n",
       "      <td>0</td>\n",
       "      <td>2</td>\n",
       "      <td>NaN</td>\n",
       "      <td>White</td>\n",
       "      <td>United-States</td>\n",
       "      <td>Some college but no degree</td>\n",
       "      <td>Secondary individual</td>\n",
       "      <td>Manufacturing-durable goods</td>\n",
       "      <td>...</td>\n",
       "      <td>Yes</td>\n",
       "      <td>47</td>\n",
       "      <td>NaN</td>\n",
       "      <td>0.0</td>\n",
       "      <td>NaN</td>\n",
       "      <td>NB_US</td>\n",
       "      <td>Pvt</td>\n",
       "      <td>Single</td>\n",
       "      <td>Children/Armed_Forces</td>\n",
       "      <td>More than 50K $</td>\n",
       "    </tr>\n",
       "    <tr>\n",
       "      <th>3</th>\n",
       "      <td>3</td>\n",
       "      <td>2004</td>\n",
       "      <td>0</td>\n",
       "      <td>2</td>\n",
       "      <td>College/University</td>\n",
       "      <td>Amer/Indian/Aleut/Eskimo</td>\n",
       "      <td>United-States</td>\n",
       "      <td>High school graduate</td>\n",
       "      <td>Householder</td>\n",
       "      <td>Wholesale trade</td>\n",
       "      <td>...</td>\n",
       "      <td>NaN</td>\n",
       "      <td>47</td>\n",
       "      <td>NaN</td>\n",
       "      <td>0.0</td>\n",
       "      <td>NaN</td>\n",
       "      <td>NB_US</td>\n",
       "      <td>Pvt</td>\n",
       "      <td>Joint_both_under65</td>\n",
       "      <td>Children/Armed_Forces</td>\n",
       "      <td>More than 50K $</td>\n",
       "    </tr>\n",
       "    <tr>\n",
       "      <th>4</th>\n",
       "      <td>4</td>\n",
       "      <td>2004</td>\n",
       "      <td>0</td>\n",
       "      <td>2</td>\n",
       "      <td>NaN</td>\n",
       "      <td>White</td>\n",
       "      <td>United-States</td>\n",
       "      <td>High school graduate</td>\n",
       "      <td>Householder</td>\n",
       "      <td>Wholesale trade</td>\n",
       "      <td>...</td>\n",
       "      <td>NaN</td>\n",
       "      <td>47</td>\n",
       "      <td>NaN</td>\n",
       "      <td>0.0</td>\n",
       "      <td>NaN</td>\n",
       "      <td>NB_US</td>\n",
       "      <td>Pvt</td>\n",
       "      <td>Single</td>\n",
       "      <td>Children/Armed_Forces</td>\n",
       "      <td>More than 50K $</td>\n",
       "    </tr>\n",
       "  </tbody>\n",
       "</table>\n",
       "<p>5 rows × 34 columns</p>\n",
       "</div>"
      ],
      "text/plain": [
       "   ID  year_of_poll  own_self_emp  veteran benefits  currently_enrolled  \\\n",
       "0   0          2004             0                 2         High school   \n",
       "1   1          2005             0                 0  College/University   \n",
       "2   2          2004             0                 2                 NaN   \n",
       "3   3          2004             0                 2  College/University   \n",
       "4   4          2004             0                 2                 NaN   \n",
       "\n",
       "                       race  father_country  \\\n",
       "0                     White   United-States   \n",
       "1                     White           Japan   \n",
       "2                     White   United-States   \n",
       "3  Amer/Indian/Aleut/Eskimo   United-States   \n",
       "4                     White   United-States   \n",
       "\n",
       "                                  educ  \\\n",
       "0   Associates degree-academic program   \n",
       "1                             Children   \n",
       "2           Some college but no degree   \n",
       "3                 High school graduate   \n",
       "4                 High school graduate   \n",
       "\n",
       "                               house_stat                 major_ind_code  ...  \\\n",
       "0                             Householder   Business and repair services  ...   \n",
       "1   Child <18 never marr not in subfamily    Not in universe or children  ...   \n",
       "2                    Secondary individual    Manufacturing-durable goods  ...   \n",
       "3                             Householder                Wholesale trade  ...   \n",
       "4                             Householder                Wholesale trade  ...   \n",
       "\n",
       "  income_filled weeks_worked  under18  hourly_wage unemp_reason citizenship  \\\n",
       "0            No           47      NaN          0.0          NaN       NB_US   \n",
       "1            No            0  Both_Pr          0.0          NaN       NB_US   \n",
       "2           Yes           47      NaN          0.0          NaN       NB_US   \n",
       "3           NaN           47      NaN          0.0          NaN       NB_US   \n",
       "4           NaN           47      NaN          0.0          NaN       NB_US   \n",
       "\n",
       "  woker_type       fed_liability       full_partime_job           income  \n",
       "0        Pvt  Joint_both_under65  Children/Armed_Forces  More than 50K $  \n",
       "1        NaN            Nonfiler  Children/Armed_Forces  More than 50K $  \n",
       "2        Pvt              Single  Children/Armed_Forces  More than 50K $  \n",
       "3        Pvt  Joint_both_under65  Children/Armed_Forces  More than 50K $  \n",
       "4        Pvt              Single  Children/Armed_Forces  More than 50K $  \n",
       "\n",
       "[5 rows x 34 columns]"
      ]
     },
     "execution_count": 2,
     "metadata": {},
     "output_type": "execute_result"
    }
   ],
   "source": [
    "train=pd.read_csv('train (1).csv')\n",
    "train.head()"
   ]
  },
  {
   "cell_type": "code",
   "execution_count": 3,
   "id": "acbb985f-a51f-4e95-af0d-7b86f5188e2c",
   "metadata": {},
   "outputs": [],
   "source": [
    "test=pd.read_csv('test.csv')"
   ]
  },
  {
   "cell_type": "code",
   "execution_count": 4,
   "id": "2a1ab2a8-c03d-4eba-ba05-19011fc73338",
   "metadata": {},
   "outputs": [],
   "source": [
    "combined=pd.concat([train,test])"
   ]
  },
  {
   "cell_type": "code",
   "execution_count": 5,
   "id": "80700b68-e0c7-424d-a6fc-165a53d964c8",
   "metadata": {},
   "outputs": [
    {
     "data": {
      "text/html": [
       "<div>\n",
       "<style scoped>\n",
       "    .dataframe tbody tr th:only-of-type {\n",
       "        vertical-align: middle;\n",
       "    }\n",
       "\n",
       "    .dataframe tbody tr th {\n",
       "        vertical-align: top;\n",
       "    }\n",
       "\n",
       "    .dataframe thead th {\n",
       "        text-align: right;\n",
       "    }\n",
       "</style>\n",
       "<table border=\"1\" class=\"dataframe\">\n",
       "  <thead>\n",
       "    <tr style=\"text-align: right;\">\n",
       "      <th></th>\n",
       "      <th>ID</th>\n",
       "      <th>year_of_poll</th>\n",
       "      <th>own_self_emp</th>\n",
       "      <th>veteran benefits</th>\n",
       "      <th>currently_enrolled</th>\n",
       "      <th>race</th>\n",
       "      <th>father_country</th>\n",
       "      <th>educ</th>\n",
       "      <th>house_stat</th>\n",
       "      <th>major_ind_code</th>\n",
       "      <th>...</th>\n",
       "      <th>income_filled</th>\n",
       "      <th>weeks_worked</th>\n",
       "      <th>under18</th>\n",
       "      <th>hourly_wage</th>\n",
       "      <th>unemp_reason</th>\n",
       "      <th>citizenship</th>\n",
       "      <th>woker_type</th>\n",
       "      <th>fed_liability</th>\n",
       "      <th>full_partime_job</th>\n",
       "      <th>income</th>\n",
       "    </tr>\n",
       "  </thead>\n",
       "  <tbody>\n",
       "    <tr>\n",
       "      <th>0</th>\n",
       "      <td>0</td>\n",
       "      <td>2004</td>\n",
       "      <td>0</td>\n",
       "      <td>2</td>\n",
       "      <td>High school</td>\n",
       "      <td>White</td>\n",
       "      <td>United-States</td>\n",
       "      <td>Associates degree-academic program</td>\n",
       "      <td>Householder</td>\n",
       "      <td>Business and repair services</td>\n",
       "      <td>...</td>\n",
       "      <td>No</td>\n",
       "      <td>47</td>\n",
       "      <td>NaN</td>\n",
       "      <td>0.0</td>\n",
       "      <td>NaN</td>\n",
       "      <td>NB_US</td>\n",
       "      <td>Pvt</td>\n",
       "      <td>Joint_both_under65</td>\n",
       "      <td>Children/Armed_Forces</td>\n",
       "      <td>More than 50K $</td>\n",
       "    </tr>\n",
       "    <tr>\n",
       "      <th>1</th>\n",
       "      <td>1</td>\n",
       "      <td>2005</td>\n",
       "      <td>0</td>\n",
       "      <td>0</td>\n",
       "      <td>College/University</td>\n",
       "      <td>White</td>\n",
       "      <td>Japan</td>\n",
       "      <td>Children</td>\n",
       "      <td>Child &lt;18 never marr not in subfamily</td>\n",
       "      <td>Not in universe or children</td>\n",
       "      <td>...</td>\n",
       "      <td>No</td>\n",
       "      <td>0</td>\n",
       "      <td>Both_Pr</td>\n",
       "      <td>0.0</td>\n",
       "      <td>NaN</td>\n",
       "      <td>NB_US</td>\n",
       "      <td>NaN</td>\n",
       "      <td>Nonfiler</td>\n",
       "      <td>Children/Armed_Forces</td>\n",
       "      <td>More than 50K $</td>\n",
       "    </tr>\n",
       "    <tr>\n",
       "      <th>2</th>\n",
       "      <td>2</td>\n",
       "      <td>2004</td>\n",
       "      <td>0</td>\n",
       "      <td>2</td>\n",
       "      <td>NaN</td>\n",
       "      <td>White</td>\n",
       "      <td>United-States</td>\n",
       "      <td>Some college but no degree</td>\n",
       "      <td>Secondary individual</td>\n",
       "      <td>Manufacturing-durable goods</td>\n",
       "      <td>...</td>\n",
       "      <td>Yes</td>\n",
       "      <td>47</td>\n",
       "      <td>NaN</td>\n",
       "      <td>0.0</td>\n",
       "      <td>NaN</td>\n",
       "      <td>NB_US</td>\n",
       "      <td>Pvt</td>\n",
       "      <td>Single</td>\n",
       "      <td>Children/Armed_Forces</td>\n",
       "      <td>More than 50K $</td>\n",
       "    </tr>\n",
       "    <tr>\n",
       "      <th>3</th>\n",
       "      <td>3</td>\n",
       "      <td>2004</td>\n",
       "      <td>0</td>\n",
       "      <td>2</td>\n",
       "      <td>College/University</td>\n",
       "      <td>Amer/Indian/Aleut/Eskimo</td>\n",
       "      <td>United-States</td>\n",
       "      <td>High school graduate</td>\n",
       "      <td>Householder</td>\n",
       "      <td>Wholesale trade</td>\n",
       "      <td>...</td>\n",
       "      <td>NaN</td>\n",
       "      <td>47</td>\n",
       "      <td>NaN</td>\n",
       "      <td>0.0</td>\n",
       "      <td>NaN</td>\n",
       "      <td>NB_US</td>\n",
       "      <td>Pvt</td>\n",
       "      <td>Joint_both_under65</td>\n",
       "      <td>Children/Armed_Forces</td>\n",
       "      <td>More than 50K $</td>\n",
       "    </tr>\n",
       "    <tr>\n",
       "      <th>4</th>\n",
       "      <td>4</td>\n",
       "      <td>2004</td>\n",
       "      <td>0</td>\n",
       "      <td>2</td>\n",
       "      <td>NaN</td>\n",
       "      <td>White</td>\n",
       "      <td>United-States</td>\n",
       "      <td>High school graduate</td>\n",
       "      <td>Householder</td>\n",
       "      <td>Wholesale trade</td>\n",
       "      <td>...</td>\n",
       "      <td>NaN</td>\n",
       "      <td>47</td>\n",
       "      <td>NaN</td>\n",
       "      <td>0.0</td>\n",
       "      <td>NaN</td>\n",
       "      <td>NB_US</td>\n",
       "      <td>Pvt</td>\n",
       "      <td>Single</td>\n",
       "      <td>Children/Armed_Forces</td>\n",
       "      <td>More than 50K $</td>\n",
       "    </tr>\n",
       "  </tbody>\n",
       "</table>\n",
       "<p>5 rows × 34 columns</p>\n",
       "</div>"
      ],
      "text/plain": [
       "   ID  year_of_poll  own_self_emp  veteran benefits  currently_enrolled  \\\n",
       "0   0          2004             0                 2         High school   \n",
       "1   1          2005             0                 0  College/University   \n",
       "2   2          2004             0                 2                 NaN   \n",
       "3   3          2004             0                 2  College/University   \n",
       "4   4          2004             0                 2                 NaN   \n",
       "\n",
       "                       race  father_country  \\\n",
       "0                     White   United-States   \n",
       "1                     White           Japan   \n",
       "2                     White   United-States   \n",
       "3  Amer/Indian/Aleut/Eskimo   United-States   \n",
       "4                     White   United-States   \n",
       "\n",
       "                                  educ  \\\n",
       "0   Associates degree-academic program   \n",
       "1                             Children   \n",
       "2           Some college but no degree   \n",
       "3                 High school graduate   \n",
       "4                 High school graduate   \n",
       "\n",
       "                               house_stat                 major_ind_code  ...  \\\n",
       "0                             Householder   Business and repair services  ...   \n",
       "1   Child <18 never marr not in subfamily    Not in universe or children  ...   \n",
       "2                    Secondary individual    Manufacturing-durable goods  ...   \n",
       "3                             Householder                Wholesale trade  ...   \n",
       "4                             Householder                Wholesale trade  ...   \n",
       "\n",
       "  income_filled weeks_worked  under18  hourly_wage unemp_reason citizenship  \\\n",
       "0            No           47      NaN          0.0          NaN       NB_US   \n",
       "1            No            0  Both_Pr          0.0          NaN       NB_US   \n",
       "2           Yes           47      NaN          0.0          NaN       NB_US   \n",
       "3           NaN           47      NaN          0.0          NaN       NB_US   \n",
       "4           NaN           47      NaN          0.0          NaN       NB_US   \n",
       "\n",
       "  woker_type       fed_liability       full_partime_job           income  \n",
       "0        Pvt  Joint_both_under65  Children/Armed_Forces  More than 50K $  \n",
       "1        NaN            Nonfiler  Children/Armed_Forces  More than 50K $  \n",
       "2        Pvt              Single  Children/Armed_Forces  More than 50K $  \n",
       "3        Pvt  Joint_both_under65  Children/Armed_Forces  More than 50K $  \n",
       "4        Pvt              Single  Children/Armed_Forces  More than 50K $  \n",
       "\n",
       "[5 rows x 34 columns]"
      ]
     },
     "execution_count": 5,
     "metadata": {},
     "output_type": "execute_result"
    }
   ],
   "source": [
    "combined.head()"
   ]
  },
  {
   "cell_type": "markdown",
   "id": "84b59b95-0ad7-4adf-b713-44f695763910",
   "metadata": {},
   "source": [
    "## Var 1 : ID"
   ]
  },
  {
   "cell_type": "code",
   "execution_count": 6,
   "id": "7c127740-b5e1-43f0-8e71-c58520ac8cb8",
   "metadata": {},
   "outputs": [
    {
     "data": {
      "text/plain": [
       "0         1\n",
       "98002     1\n",
       "97996     1\n",
       "97997     1\n",
       "97998     1\n",
       "         ..\n",
       "48994     1\n",
       "48993     1\n",
       "48992     1\n",
       "48991     1\n",
       "149999    1\n",
       "Name: ID, Length: 147000, dtype: int64"
      ]
     },
     "execution_count": 6,
     "metadata": {},
     "output_type": "execute_result"
    }
   ],
   "source": [
    "combined.ID.value_counts()"
   ]
  },
  {
   "cell_type": "markdown",
   "id": "47028c02-1ee3-45d4-96f0-23b83189d9f9",
   "metadata": {},
   "source": [
    "#### We will drop this column"
   ]
  },
  {
   "cell_type": "markdown",
   "id": "81a027f7-dbb9-4991-af4a-5e288bd5c48c",
   "metadata": {},
   "source": [
    "## Var2 :year_of_poll"
   ]
  },
  {
   "cell_type": "code",
   "execution_count": 7,
   "id": "62dcfe0a-063f-4fbb-b766-1ebb795aaa19",
   "metadata": {},
   "outputs": [
    {
     "data": {
      "text/plain": [
       "2005    73613\n",
       "2004    73387\n",
       "Name: year_of_poll, dtype: int64"
      ]
     },
     "execution_count": 7,
     "metadata": {},
     "output_type": "execute_result"
    }
   ],
   "source": [
    "combined.year_of_poll.value_counts()"
   ]
  },
  {
   "cell_type": "markdown",
   "id": "07c7b00d-c972-4a87-8829-f114c481bea5",
   "metadata": {},
   "source": [
    "#### only two years data present"
   ]
  },
  {
   "cell_type": "code",
   "execution_count": 8,
   "id": "bdaf7267-e3e1-4d6f-8da7-6c583af21d98",
   "metadata": {},
   "outputs": [],
   "source": [
    "tbl_2=pd.crosstab(combined.year_of_poll,combined.income)"
   ]
  },
  {
   "cell_type": "code",
   "execution_count": 9,
   "id": "a0253172-87c0-4fc7-a708-faadd4d27afd",
   "metadata": {},
   "outputs": [
    {
     "data": {
      "text/plain": [
       "<AxesSubplot:xlabel='year_of_poll'>"
      ]
     },
     "execution_count": 9,
     "metadata": {},
     "output_type": "execute_result"
    },
    {
     "data": {
      "image/png": "[encoded data removed]",
      "text/plain": [
       "<Figure size 432x288 with 1 Axes>"
      ]
     },
     "metadata": {
      "needs_background": "light"
     },
     "output_type": "display_data"
    }
   ],
   "source": [
    "tbl_2.plot.bar()"
   ]
  },
  {
   "cell_type": "markdown",
   "id": "10f1c892-593a-495c-8b6d-b44d6bb11613",
   "metadata": {},
   "source": [
    "### we will drop this column as distribution of both the columns are same"
   ]
  },
  {
   "cell_type": "markdown",
   "id": "854cbc98-bf19-43d9-9752-5c22684aacfe",
   "metadata": {},
   "source": [
    "## Var3:own_self_emp"
   ]
  },
  {
   "cell_type": "code",
   "execution_count": 10,
   "id": "c03ea2d1-8009-4d56-bf82-5dff0fffd9ad",
   "metadata": {},
   "outputs": [
    {
     "data": {
      "text/plain": [
       "0    133131\n",
       "2     11890\n",
       "1      1979\n",
       "Name: own_self_emp, dtype: int64"
      ]
     },
     "execution_count": 10,
     "metadata": {},
     "output_type": "execute_result"
    }
   ],
   "source": [
    "combined.own_self_emp.value_counts()"
   ]
  },
  {
   "cell_type": "code",
   "execution_count": 11,
   "id": "27dc5daa-c8c0-4bac-b997-420b5c118f19",
   "metadata": {},
   "outputs": [
    {
     "data": {
      "text/plain": [
       "0"
      ]
     },
     "execution_count": 11,
     "metadata": {},
     "output_type": "execute_result"
    }
   ],
   "source": [
    "combined.own_self_emp.isnull().sum()"
   ]
  },
  {
   "cell_type": "code",
   "execution_count": 12,
   "id": "1633dd35-b499-4691-891e-6df237c55b10",
   "metadata": {},
   "outputs": [],
   "source": [
    "tbl_3=pd.crosstab(combined.own_self_emp,combined.income)"
   ]
  },
  {
   "cell_type": "code",
   "execution_count": 13,
   "id": "74b45617-ee11-431e-9193-3d0c5553f9a4",
   "metadata": {},
   "outputs": [
    {
     "data": {
      "text/plain": [
       "<AxesSubplot:xlabel='own_self_emp'>"
      ]
     },
     "execution_count": 13,
     "metadata": {},
     "output_type": "execute_result"
    },
    {
     "data": {
      "image/png": "[encoded data removed]",
      "text/plain": [
       "<Figure size 432x288 with 1 Axes>"
      ]
     },
     "metadata": {
      "needs_background": "light"
     },
     "output_type": "display_data"
    }
   ],
   "source": [
    "tbl_3.plot.bar()"
   ]
  },
  {
   "cell_type": "markdown",
   "id": "1f1fe8d9-1aa6-4476-aa6a-35bb2ef01a72",
   "metadata": {},
   "source": [
    "## Var 3 : veteran benefits"
   ]
  },
  {
   "cell_type": "code",
   "execution_count": 14,
   "id": "9cfa92f5-6639-4c67-983e-fa0c7d5961cb",
   "metadata": {},
   "outputs": [
    {
     "data": {
      "text/plain": [
       "2    110712\n",
       "0     34824\n",
       "1      1464\n",
       "Name: veteran benefits, dtype: int64"
      ]
     },
     "execution_count": 14,
     "metadata": {},
     "output_type": "execute_result"
    }
   ],
   "source": [
    "combined['veteran benefits'].value_counts()"
   ]
  },
  {
   "cell_type": "code",
   "execution_count": 15,
   "id": "91de686a-14ad-4bcd-aa33-add8892ef7ed",
   "metadata": {},
   "outputs": [
    {
     "data": {
      "text/plain": [
       "0"
      ]
     },
     "execution_count": 15,
     "metadata": {},
     "output_type": "execute_result"
    }
   ],
   "source": [
    "combined['veteran benefits'].isnull().sum()"
   ]
  },
  {
   "cell_type": "code",
   "execution_count": null,
   "id": "962317be-4f81-43df-a6ee-74c8eb6c5a1c",
   "metadata": {},
   "outputs": [],
   "source": []
  },
  {
   "cell_type": "code",
   "execution_count": 16,
   "id": "165af878-2527-4021-bf74-78c28e3bd3ee",
   "metadata": {},
   "outputs": [],
   "source": [
    "c,p,dof,expected=chi2_contingency(tbl_3)"
   ]
  },
  {
   "cell_type": "code",
   "execution_count": 17,
   "id": "dfa238d6-1c4d-4fad-b2ff-0ffb165da9eb",
   "metadata": {},
   "outputs": [
    {
     "data": {
      "text/plain": [
       "1.4125477474732505e-16"
      ]
     },
     "execution_count": 17,
     "metadata": {},
     "output_type": "execute_result"
    }
   ],
   "source": [
    "p"
   ]
  },
  {
   "cell_type": "markdown",
   "id": "aa726eff-0368-40d8-a246-fb885895ca51",
   "metadata": {},
   "source": [
    "## Var4 : currently_enrolled"
   ]
  },
  {
   "cell_type": "code",
   "execution_count": 18,
   "id": "a8883ab4-b427-4689-a156-18678de80b35",
   "metadata": {},
   "outputs": [
    {
     "data": {
      "text/plain": [
       "College/University    59345\n",
       " High school          43599\n",
       "Name: currently_enrolled, dtype: int64"
      ]
     },
     "execution_count": 18,
     "metadata": {},
     "output_type": "execute_result"
    }
   ],
   "source": [
    "combined.currently_enrolled.value_counts()"
   ]
  },
  {
   "cell_type": "code",
   "execution_count": 19,
   "id": "afb9600e-4ffd-46b4-a992-986e54f30749",
   "metadata": {},
   "outputs": [
    {
     "data": {
      "text/plain": [
       "44056"
      ]
     },
     "execution_count": 19,
     "metadata": {},
     "output_type": "execute_result"
    }
   ],
   "source": [
    "combined.currently_enrolled.isnull().sum()"
   ]
  },
  {
   "cell_type": "code",
   "execution_count": 20,
   "id": "aa84d884-3d0f-4470-896f-8382ede7b3b1",
   "metadata": {},
   "outputs": [],
   "source": [
    "combined['currently_enrolled']=combined.currently_enrolled.str.strip()"
   ]
  },
  {
   "cell_type": "code",
   "execution_count": 21,
   "id": "338b3933-ff90-46fb-ba1c-d03156d4b767",
   "metadata": {},
   "outputs": [],
   "source": [
    "combined.currently_enrolled.fillna('not enrolled',inplace=True)"
   ]
  },
  {
   "cell_type": "code",
   "execution_count": 22,
   "id": "8501b988-f8b4-43b6-82ea-ea3ee0fe6a61",
   "metadata": {},
   "outputs": [
    {
     "data": {
      "text/plain": [
       "<AxesSubplot:>"
      ]
     },
     "execution_count": 22,
     "metadata": {},
     "output_type": "execute_result"
    },
    {
     "data": {
      "image/png": "[encoded data removed]",
      "text/plain": [
       "<Figure size 432x288 with 1 Axes>"
      ]
     },
     "metadata": {
      "needs_background": "light"
     },
     "output_type": "display_data"
    }
   ],
   "source": [
    "combined.currently_enrolled.value_counts().plot.bar()"
   ]
  },
  {
   "cell_type": "code",
   "execution_count": 23,
   "id": "e4a6c5b8-d2a2-4398-bfaa-00faa679f531",
   "metadata": {},
   "outputs": [],
   "source": [
    "tbl_4=pd.crosstab(combined.currently_enrolled,combined.income)"
   ]
  },
  {
   "cell_type": "code",
   "execution_count": 24,
   "id": "e59a800c-40ac-4a02-93cb-f9979732edff",
   "metadata": {},
   "outputs": [
    {
     "data": {
      "text/plain": [
       "<AxesSubplot:xlabel='currently_enrolled'>"
      ]
     },
     "execution_count": 24,
     "metadata": {},
     "output_type": "execute_result"
    },
    {
     "data": {
      "image/png": "[encoded data removed]",
      "text/plain": [
       "<Figure size 432x288 with 1 Axes>"
      ]
     },
     "metadata": {
      "needs_background": "light"
     },
     "output_type": "display_data"
    }
   ],
   "source": [
    "tbl_4.plot.bar()"
   ]
  },
  {
   "cell_type": "markdown",
   "id": "f2ac9f81-6524-4d09-a191-4f582777d342",
   "metadata": {},
   "source": [
    "## var 5 : race"
   ]
  },
  {
   "cell_type": "code",
   "execution_count": 25,
   "id": "6601db0a-2a9d-402d-9a30-c9d34e8f26d7",
   "metadata": {},
   "outputs": [
    {
     "data": {
      "text/plain": [
       " White                      123330\n",
       " Black                       15042\n",
       "Asian/Pacific_Islander        4269\n",
       " Other                        2713\n",
       "Amer/Indian/Aleut/Eskimo      1646\n",
       "Name: race, dtype: int64"
      ]
     },
     "execution_count": 25,
     "metadata": {},
     "output_type": "execute_result"
    }
   ],
   "source": [
    "combined.race.value_counts()"
   ]
  },
  {
   "cell_type": "code",
   "execution_count": 26,
   "id": "4172714b-ba9e-4060-a601-9d4bde599f7f",
   "metadata": {},
   "outputs": [],
   "source": [
    "combined['race']=combined.race.str.strip()"
   ]
  },
  {
   "cell_type": "code",
   "execution_count": 27,
   "id": "e819cf28-ca5d-4fcf-84f2-d27a2dac42f3",
   "metadata": {},
   "outputs": [
    {
     "data": {
      "text/plain": [
       "0"
      ]
     },
     "execution_count": 27,
     "metadata": {},
     "output_type": "execute_result"
    }
   ],
   "source": [
    "combined.race.isnull().sum()"
   ]
  },
  {
   "cell_type": "code",
   "execution_count": 28,
   "id": "5a8711e8-b2cf-408b-ad11-f6249616cf40",
   "metadata": {},
   "outputs": [],
   "source": [
    "tbl_5=pd.crosstab(combined.race,combined.income)"
   ]
  },
  {
   "cell_type": "code",
   "execution_count": 29,
   "id": "cc10f6a5-f9ac-4ae3-a448-81cb98306884",
   "metadata": {},
   "outputs": [
    {
     "data": {
      "text/plain": [
       "<AxesSubplot:xlabel='race'>"
      ]
     },
     "execution_count": 29,
     "metadata": {},
     "output_type": "execute_result"
    },
    {
     "data": {
      "image/png": "[encoded data removed]",
      "text/plain": [
       "<Figure size 432x288 with 1 Axes>"
      ]
     },
     "metadata": {
      "needs_background": "light"
     },
     "output_type": "display_data"
    }
   ],
   "source": [
    "tbl_5.plot.bar()"
   ]
  },
  {
   "cell_type": "code",
   "execution_count": 30,
   "id": "1929b00f-a451-44da-8991-37ce91e9052f",
   "metadata": {},
   "outputs": [],
   "source": [
    "# we have more data of white peoples and they are earning more"
   ]
  },
  {
   "cell_type": "code",
   "execution_count": 31,
   "id": "be107f00-28cb-48b6-9cbf-57e333305f77",
   "metadata": {},
   "outputs": [],
   "source": [
    "def mapp(x):\n",
    "    if x=='White':\n",
    "        return 1\n",
    "    else: \n",
    "        return 0"
   ]
  },
  {
   "cell_type": "code",
   "execution_count": 32,
   "id": "677ff238-2037-47ed-821d-083c78972e46",
   "metadata": {},
   "outputs": [],
   "source": [
    "combined['race']=combined.race.apply(mapp)"
   ]
  },
  {
   "cell_type": "code",
   "execution_count": null,
   "id": "1d4bd0de-e25a-429e-b264-9d83fb1b9d4d",
   "metadata": {},
   "outputs": [],
   "source": [
    "\n"
   ]
  },
  {
   "cell_type": "markdown",
   "id": "eba6f367-2eb6-40c5-a79d-216f440178a5",
   "metadata": {},
   "source": [
    "## var 6 : father_country"
   ]
  },
  {
   "cell_type": "code",
   "execution_count": 33,
   "id": "737d63d0-d3f4-45f1-86c0-6365d2d4cd59",
   "metadata": {},
   "outputs": [
    {
     "data": {
      "text/plain": [
       " United-States                   117270\n",
       " Mexico                            7404\n",
       " ?                                 4915\n",
       " Puerto-Rico                       2007\n",
       " Italy                             1638\n",
       " Germany                           1018\n",
       " Canada                             992\n",
       " Dominican-Republic                 947\n",
       " Poland                             881\n",
       " Philippines                        855\n",
       " Cuba                               814\n",
       " El-Salvador                        735\n",
       " China                              626\n",
       " England                            580\n",
       " Columbia                           445\n",
       " India                              421\n",
       " South Korea                        389\n",
       " Ireland                            372\n",
       " Jamaica                            345\n",
       " Vietnam                            340\n",
       " Guatemala                          340\n",
       " Japan                              283\n",
       " Portugal                           282\n",
       " Haiti                              267\n",
       " Ecuador                            265\n",
       " Nicaragua                          254\n",
       " Peru                               242\n",
       " Greece                             240\n",
       " Hungary                            222\n",
       " Scotland                           185\n",
       " Yugoslavia                         172\n",
       " Iran                               171\n",
       " Cambodia                           147\n",
       " Taiwan                             144\n",
       " Honduras                           144\n",
       " France                             138\n",
       " Laos                               109\n",
       " Outlying-U S (Guam USVI etc)       108\n",
       " Thailand                            84\n",
       " Trinadad&Tobago                     80\n",
       " Hong Kong                           74\n",
       " Holand-Netherlands                  39\n",
       " Panama                              16\n",
       "Name: father_country, dtype: int64"
      ]
     },
     "execution_count": 33,
     "metadata": {},
     "output_type": "execute_result"
    }
   ],
   "source": [
    "combined.father_country.value_counts()"
   ]
  },
  {
   "cell_type": "code",
   "execution_count": 34,
   "id": "e1f8e7e5-0ae3-423a-98ec-4815d4c8190b",
   "metadata": {},
   "outputs": [],
   "source": [
    "combined['father_country']=combined['father_country'].str.strip()"
   ]
  },
  {
   "cell_type": "code",
   "execution_count": 35,
   "id": "3eeee752-b1e8-48bf-af42-5c82abf39658",
   "metadata": {},
   "outputs": [],
   "source": [
    "combined['father_country']=combined.father_country.str.replace('?','No data')"
   ]
  },
  {
   "cell_type": "code",
   "execution_count": 36,
   "id": "9046ecf4-b5e3-429f-95aa-ce87d1aa6e14",
   "metadata": {},
   "outputs": [],
   "source": [
    "mappp=combined.father_country.value_counts()/len(combined)"
   ]
  },
  {
   "cell_type": "code",
   "execution_count": 37,
   "id": "1d5b6e2d-e3a6-40af-843b-620ff3f393fb",
   "metadata": {},
   "outputs": [],
   "source": [
    "combined['father_country']=combined.father_country.map(mappp)"
   ]
  },
  {
   "cell_type": "code",
   "execution_count": 38,
   "id": "88a9a0c1-ad35-49c6-899c-97a68c5786c0",
   "metadata": {},
   "outputs": [
    {
     "data": {
      "text/plain": [
       "0"
      ]
     },
     "execution_count": 38,
     "metadata": {},
     "output_type": "execute_result"
    }
   ],
   "source": [
    "combined['father_country'].isnull().sum()"
   ]
  },
  {
   "cell_type": "markdown",
   "id": "2455a1bf-8363-4571-9cc0-6c232fafcf1f",
   "metadata": {},
   "source": [
    "## Var7: educ"
   ]
  },
  {
   "cell_type": "code",
   "execution_count": 39,
   "id": "3eeb8ec5-da94-4bec-9131-2d3fff02a71b",
   "metadata": {},
   "outputs": [
    {
     "data": {
      "text/plain": [
       " High school graduate                      35707\n",
       " Children                                  34832\n",
       " Some college but no degree                20562\n",
       " Bachelors degree(BA AB BS)                14649\n",
       " 7th and 8th grade                          5895\n",
       " 10th grade                                 5590\n",
       " 11th grade                                 5025\n",
       " Masters degree(MA MS MEng MEd MSW MBA)     4794\n",
       " 9th grade                                  4622\n",
       " Associates degree-occup /vocational        3990\n",
       " Associates degree-academic program         3218\n",
       " 5th or 6th grade                           2441\n",
       " 12th grade no diploma                      1517\n",
       " 1st 2nd 3rd or 4th grade                   1334\n",
       " Prof school degree (MD DDS DVM LLB JD)     1304\n",
       " Doctorate degree(PhD EdD)                   919\n",
       " Less than 1st grade                         601\n",
       "Name: educ, dtype: int64"
      ]
     },
     "execution_count": 39,
     "metadata": {},
     "output_type": "execute_result"
    }
   ],
   "source": [
    "combined.educ.value_counts()"
   ]
  },
  {
   "cell_type": "code",
   "execution_count": null,
   "id": "0246e08c-4e05-411c-a4de-453c8315cc40",
   "metadata": {},
   "outputs": [],
   "source": []
  },
  {
   "cell_type": "code",
   "execution_count": 40,
   "id": "39370887-0b8d-4b05-b0d4-f173d907d521",
   "metadata": {},
   "outputs": [],
   "source": [
    "combined['educ']=combined.educ.str.strip()"
   ]
  },
  {
   "cell_type": "code",
   "execution_count": 41,
   "id": "e96a283c-8f26-4d7d-a4df-bae8adcdd961",
   "metadata": {},
   "outputs": [
    {
     "data": {
      "text/plain": [
       "array(['Associates degree-academic program', 'Children',\n",
       "       'Some college but no degree', 'High school graduate', '10th grade',\n",
       "       'Prof school degree (MD DDS DVM LLB JD)',\n",
       "       'Bachelors degree(BA AB BS)', '7th and 8th grade',\n",
       "       '5th or 6th grade', '9th grade', '11th grade',\n",
       "       'Masters degree(MA MS MEng MEd MSW MBA)',\n",
       "       'Associates degree-occup /vocational', '1st 2nd 3rd or 4th grade',\n",
       "       'Less than 1st grade', '12th grade no diploma',\n",
       "       'Doctorate degree(PhD EdD)'], dtype=object)"
      ]
     },
     "execution_count": 41,
     "metadata": {},
     "output_type": "execute_result"
    }
   ],
   "source": [
    "combined.educ.unique()"
   ]
  },
  {
   "cell_type": "code",
   "execution_count": 42,
   "id": "7db0bb40-2b42-4b5b-b6f2-17234fb54abc",
   "metadata": {},
   "outputs": [],
   "source": [
    "lst=[]\n",
    "for i in combined.educ:\n",
    "    if i in ['Associates degree-academic program',\n",
    "       'Prof school degree (MD DDS DVM LLB JD)',\n",
    "       'Bachelors degree(BA AB BS)',\n",
    "       'Masters degree(MA MS MEng MEd MSW MBA)',\n",
    "       'Associates degree-occup /vocational',\n",
    "       'Doctorate degree(PhD EdD)']:\n",
    "        lst.append('Graduate')\n",
    "    else:\n",
    "        lst.append('Not graduate')"
   ]
  },
  {
   "cell_type": "code",
   "execution_count": 43,
   "id": "4bc25669-f4cc-4403-b37d-e8a93a7ded75",
   "metadata": {},
   "outputs": [],
   "source": [
    "combined['educ']=lst"
   ]
  },
  {
   "cell_type": "code",
   "execution_count": 44,
   "id": "9847abf2-66dc-4c48-be2c-cab57afe605f",
   "metadata": {},
   "outputs": [
    {
     "data": {
      "text/plain": [
       "0"
      ]
     },
     "execution_count": 44,
     "metadata": {},
     "output_type": "execute_result"
    }
   ],
   "source": [
    "combined.educ.isnull().sum()"
   ]
  },
  {
   "cell_type": "code",
   "execution_count": 45,
   "id": "1264011b-fd24-4d7a-aa95-85ae61e30479",
   "metadata": {},
   "outputs": [
    {
     "data": {
      "text/plain": [
       "<AxesSubplot:>"
      ]
     },
     "execution_count": 45,
     "metadata": {},
     "output_type": "execute_result"
    },
    {
     "data": {
      "image/png": "[encoded data removed]",
      "text/plain": [
       "<Figure size 432x288 with 1 Axes>"
      ]
     },
     "metadata": {
      "needs_background": "light"
     },
     "output_type": "display_data"
    }
   ],
   "source": [
    "combined.educ.value_counts().plot.bar()"
   ]
  },
  {
   "cell_type": "code",
   "execution_count": 46,
   "id": "40dad505-0fa6-4cae-b858-90049b191b43",
   "metadata": {},
   "outputs": [],
   "source": [
    "tbl_7=pd.crosstab(combined.income,combined.educ)"
   ]
  },
  {
   "cell_type": "code",
   "execution_count": 47,
   "id": "e272c343-cc21-4f86-847b-56ce6a57b68e",
   "metadata": {},
   "outputs": [
    {
     "data": {
      "text/plain": [
       "<AxesSubplot:xlabel='income'>"
      ]
     },
     "execution_count": 47,
     "metadata": {},
     "output_type": "execute_result"
    },
    {
     "data": {
      "image/png": "[encoded data removed]",
      "text/plain": [
       "<Figure size 432x288 with 1 Axes>"
      ]
     },
     "metadata": {
      "needs_background": "light"
     },
     "output_type": "display_data"
    }
   ],
   "source": [
    "tbl_7.plot.bar()"
   ]
  },
  {
   "cell_type": "code",
   "execution_count": 48,
   "id": "a10d9e63-5d7c-4138-8687-b2383d68432e",
   "metadata": {},
   "outputs": [
    {
     "name": "stdout",
     "output_type": "stream",
     "text": [
      "8.266184068901767e-247\n"
     ]
    }
   ],
   "source": [
    "s,p,dof,expe=chi2_contingency(tbl_7)\n",
    "print(p)"
   ]
  },
  {
   "cell_type": "markdown",
   "id": "1e6a43d4-9784-4a3a-b219-c6c2f4bd8587",
   "metadata": {},
   "source": [
    "## var_8: house_stat"
   ]
  },
  {
   "cell_type": "code",
   "execution_count": 49,
   "id": "5f18d09d-f2ea-4c67-bb59-6e10185e1cbe",
   "metadata": {},
   "outputs": [
    {
     "data": {
      "text/plain": [
       "14"
      ]
     },
     "execution_count": 49,
     "metadata": {},
     "output_type": "execute_result"
    }
   ],
   "source": [
    "combined.house_stat.isnull().sum()"
   ]
  },
  {
   "cell_type": "code",
   "execution_count": 50,
   "id": "662ebce4-54f1-4ca2-9d03-7a4b6ed77e8c",
   "metadata": {},
   "outputs": [],
   "source": [
    "mapp=combined.house_stat.value_counts()/len(combined)"
   ]
  },
  {
   "cell_type": "code",
   "execution_count": 51,
   "id": "c27cd2d3-f168-473b-9eb2-24bdd43f8840",
   "metadata": {},
   "outputs": [],
   "source": [
    "combined['house_stat']=combined.house_stat.map(mapp)"
   ]
  },
  {
   "cell_type": "code",
   "execution_count": 52,
   "id": "06a4d4e1-1fcc-40a8-818a-2a8a0774086d",
   "metadata": {},
   "outputs": [],
   "source": [
    "combined.fillna(0,inplace=True)"
   ]
  },
  {
   "cell_type": "code",
   "execution_count": 53,
   "id": "39eddb52-e860-47da-ac38-ec2441012cc5",
   "metadata": {},
   "outputs": [
    {
     "data": {
      "text/plain": [
       "Index(['ID', 'year_of_poll', 'own_self_emp', 'veteran benefits',\n",
       "       'currently_enrolled', 'race', 'father_country', 'educ', 'house_stat',\n",
       "       'major_ind_code', 'labour_union', 'self_country', 'major_occ_code',\n",
       "       'age', 'mother_country', 'house_summary', 'gender', 'hisp_origin',\n",
       "       'gains', 'dividends', 'marriage_status', 'losses', 'employer_of',\n",
       "       'house_1yr_ago', 'income_filled', 'weeks_worked', 'under18',\n",
       "       'hourly_wage', 'unemp_reason', 'citizenship', 'woker_type',\n",
       "       'fed_liability', 'full_partime_job', 'income'],\n",
       "      dtype='object')"
      ]
     },
     "execution_count": 53,
     "metadata": {},
     "output_type": "execute_result"
    }
   ],
   "source": [
    "combined.columns"
   ]
  },
  {
   "cell_type": "markdown",
   "id": "d0772d42-c34c-44eb-be73-981c4b5761d5",
   "metadata": {},
   "source": [
    "## var9: major_ind_code"
   ]
  },
  {
   "cell_type": "code",
   "execution_count": 54,
   "id": "b4476802-736d-46ec-82da-a1b7b51f52e6",
   "metadata": {},
   "outputs": [
    {
     "data": {
      "text/plain": [
       "0"
      ]
     },
     "execution_count": 54,
     "metadata": {},
     "output_type": "execute_result"
    }
   ],
   "source": [
    "combined.major_ind_code.isnull().sum()"
   ]
  },
  {
   "cell_type": "code",
   "execution_count": 55,
   "id": "82aa488d-d95c-405d-a2a6-e08085bf4acf",
   "metadata": {},
   "outputs": [
    {
     "data": {
      "text/plain": [
       " Not in universe or children            74123\n",
       " Retail trade                           12508\n",
       " Manufacturing-durable goods             6726\n",
       " Education                               6035\n",
       " Manufacturing-nondurable goods          5137\n",
       " Finance insurance and real estate       4472\n",
       " Construction                            4464\n",
       " Business and repair services            4164\n",
       " Medical except hospital                 3503\n",
       " Public administration                   3384\n",
       " Other professional services             3313\n",
       " Transportation                          3079\n",
       " Hospital services                       2960\n",
       " Wholesale trade                         2643\n",
       " Agriculture                             2267\n",
       " Personal services except private HH     2137\n",
       " Social services                         1869\n",
       " Entertainment                           1188\n",
       " Communications                           897\n",
       " Utilities and sanitary services          857\n",
       " Private household services               706\n",
       " Mining                                   403\n",
       " Forestry and fisheries                   135\n",
       " Armed Forces                              30\n",
       "Name: major_ind_code, dtype: int64"
      ]
     },
     "execution_count": 55,
     "metadata": {},
     "output_type": "execute_result"
    }
   ],
   "source": [
    "combined.major_ind_code.value_counts()"
   ]
  },
  {
   "cell_type": "code",
   "execution_count": 56,
   "id": "273071d3-3bd8-40c9-8e7e-bb9a8932a353",
   "metadata": {},
   "outputs": [],
   "source": [
    "combined.major_ind_code=combined.major_ind_code.str.strip()"
   ]
  },
  {
   "cell_type": "code",
   "execution_count": 57,
   "id": "ab04f5e0-c402-4b13-bd45-b9ba32e2618f",
   "metadata": {},
   "outputs": [
    {
     "data": {
      "text/plain": [
       "array(['Business and repair services', 'Not in universe or children',\n",
       "       'Manufacturing-durable goods', 'Wholesale trade', 'Entertainment',\n",
       "       'Construction', 'Hospital services',\n",
       "       'Finance insurance and real estate',\n",
       "       'Personal services except private HH', 'Retail trade',\n",
       "       'Other professional services', 'Communications',\n",
       "       'Manufacturing-nondurable goods', 'Agriculture', 'Education',\n",
       "       'Private household services', 'Public administration',\n",
       "       'Medical except hospital', 'Armed Forces', 'Social services',\n",
       "       'Transportation', 'Forestry and fisheries', 'Mining',\n",
       "       'Utilities and sanitary services'], dtype=object)"
      ]
     },
     "execution_count": 57,
     "metadata": {},
     "output_type": "execute_result"
    }
   ],
   "source": [
    "combined.major_ind_code.unique()"
   ]
  },
  {
   "cell_type": "code",
   "execution_count": 58,
   "id": "9b9e2114-58ff-451f-82fe-c5a843825bca",
   "metadata": {},
   "outputs": [],
   "source": [
    "mapp={'Business and repair services':3, 'Not in universe or children':0,\n",
    "       'Manufacturing-durable goods':1, 'Wholesale trade':2, 'Entertainment':3,\n",
    "       'Construction':1, 'Hospital services':2,\n",
    "       'Finance insurance and real estate':3,\n",
    "       'Personal services except private HH':2, 'Retail trade':3,\n",
    "       'Other professional services':1, 'Communications':2,\n",
    "       'Manufacturing-nondurable goods':2, 'Agriculture':1, 'Education':0,\n",
    "       'Private household services':1, 'Public administration':2,\n",
    "       'Medical except hospital':2, 'Armed Forces':2, 'Social services':1,\n",
    "       'Transportation':2, 'Forestry and fisheries':1, 'Mining':1,\n",
    "       'Utilities and sanitary services':0}"
   ]
  },
  {
   "cell_type": "code",
   "execution_count": 59,
   "id": "d56a2e41-8152-4d43-9789-a20287a04903",
   "metadata": {},
   "outputs": [],
   "source": [
    "combined.major_ind_code=combined.major_ind_code.map(mapp)"
   ]
  },
  {
   "cell_type": "code",
   "execution_count": 60,
   "id": "34735e1b-3a0c-4890-b911-07c843d5d8aa",
   "metadata": {},
   "outputs": [
    {
     "data": {
      "text/plain": [
       "0    81015\n",
       "2    23770\n",
       "3    22332\n",
       "1    19883\n",
       "Name: major_ind_code, dtype: int64"
      ]
     },
     "execution_count": 60,
     "metadata": {},
     "output_type": "execute_result"
    }
   ],
   "source": [
    "combined.major_ind_code.value_counts()"
   ]
  },
  {
   "cell_type": "markdown",
   "id": "cb9872aa-ad06-4492-b801-49b67f414402",
   "metadata": {},
   "source": [
    "## var10: labour_union"
   ]
  },
  {
   "cell_type": "code",
   "execution_count": 61,
   "id": "522493e4-3f89-4b5e-b183-2251d7e94e29",
   "metadata": {},
   "outputs": [
    {
     "data": {
      "text/plain": [
       "0"
      ]
     },
     "execution_count": 61,
     "metadata": {},
     "output_type": "execute_result"
    }
   ],
   "source": [
    "combined.labour_union.isnull().sum()"
   ]
  },
  {
   "cell_type": "code",
   "execution_count": 62,
   "id": "dae5e875-7504-402c-b120-2c3ea2242439",
   "metadata": {},
   "outputs": [
    {
     "data": {
      "text/plain": [
       "no     82691\n",
       "0      49668\n",
       "yes    14641\n",
       "Name: labour_union, dtype: int64"
      ]
     },
     "execution_count": 62,
     "metadata": {},
     "output_type": "execute_result"
    }
   ],
   "source": [
    "combined.labour_union.value_counts()"
   ]
  },
  {
   "cell_type": "code",
   "execution_count": 63,
   "id": "2fb2bf43-a5b3-4da1-850a-0069b40d643e",
   "metadata": {},
   "outputs": [],
   "source": [
    "combined.labour_union=combined.labour_union.map({'no':0,'yes':1,0:0})"
   ]
  },
  {
   "cell_type": "markdown",
   "id": "0e6b8720-8643-41f1-a64b-df1e141521f4",
   "metadata": {},
   "source": [
    "## var_11:self_country"
   ]
  },
  {
   "cell_type": "code",
   "execution_count": 64,
   "id": "b47cca58-c79f-44e6-98dc-a67a37ea2e22",
   "metadata": {},
   "outputs": [
    {
     "data": {
      "text/plain": [
       "0"
      ]
     },
     "execution_count": 64,
     "metadata": {},
     "output_type": "execute_result"
    }
   ],
   "source": [
    "combined.self_country.isnull().sum()"
   ]
  },
  {
   "cell_type": "code",
   "execution_count": 65,
   "id": "a6309078-4d69-4e65-bb43-9c3812e345a0",
   "metadata": {},
   "outputs": [],
   "source": [
    "mapp=combined.self_country.value_counts()/len(combined)"
   ]
  },
  {
   "cell_type": "code",
   "execution_count": 66,
   "id": "169ea57c-38ec-4c56-8382-5a19b88ac7e4",
   "metadata": {},
   "outputs": [],
   "source": [
    "combined.self_country=combined.self_country.map(mapp)"
   ]
  },
  {
   "cell_type": "markdown",
   "id": "409b6b5a-d04f-4a15-a050-abdb756a101d",
   "metadata": {},
   "source": [
    "## VAR_11: major_occ_code"
   ]
  },
  {
   "cell_type": "code",
   "execution_count": 67,
   "id": "54577364-e5b5-4bfd-b22e-3abbce0d7f5c",
   "metadata": {},
   "outputs": [
    {
     "data": {
      "text/plain": [
       "0"
      ]
     },
     "execution_count": 67,
     "metadata": {},
     "output_type": "execute_result"
    }
   ],
   "source": [
    "combined.major_occ_code.isnull().sum()"
   ]
  },
  {
   "cell_type": "code",
   "execution_count": 68,
   "id": "0ac8b262-3e82-4a97-91b9-b368d368b33c",
   "metadata": {},
   "outputs": [],
   "source": [
    "#combined.major_occ_code=combined.major_occ_code.str.strip()"
   ]
  },
  {
   "cell_type": "code",
   "execution_count": 69,
   "id": "2a994c97-e729-4230-9cdf-e2f946d4bc33",
   "metadata": {},
   "outputs": [
    {
     "data": {
      "text/plain": [
       "0                           Protective services\n",
       "1                                             0\n",
       "2         Machine operators assmblrs & inspctrs\n",
       "3                  Handlers equip cleaners etc \n",
       "4                Executive admin and managerial\n",
       "                          ...                  \n",
       "41995                                         0\n",
       "41996       Precision production craft & repair\n",
       "41997                                         0\n",
       "41998        Transportation and material moving\n",
       "41999            Executive admin and managerial\n",
       "Name: major_occ_code, Length: 147000, dtype: object"
      ]
     },
     "execution_count": 69,
     "metadata": {},
     "output_type": "execute_result"
    }
   ],
   "source": [
    "combined.major_occ_code"
   ]
  },
  {
   "cell_type": "code",
   "execution_count": 70,
   "id": "d3702885-3ae0-4500-85e1-8ed419b2ca3d",
   "metadata": {},
   "outputs": [
    {
     "data": {
      "text/plain": [
       "0                                         74123\n",
       " Adm support including clerical           10874\n",
       " Professional specialty                   10218\n",
       " Executive admin and managerial            9252\n",
       " Other service                             8829\n",
       " Sales                                     8609\n",
       " Precision production craft & repair       7814\n",
       " Machine operators assmblrs & inspctrs     4786\n",
       " Handlers equip cleaners etc               3078\n",
       " Transportation and material moving        2980\n",
       " Farming forestry and fishing              2359\n",
       " Technicians and related support           2246\n",
       " Protective services                       1215\n",
       " Private household services                 587\n",
       " Armed Forces                                30\n",
       "Name: major_occ_code, dtype: int64"
      ]
     },
     "execution_count": 70,
     "metadata": {},
     "output_type": "execute_result"
    }
   ],
   "source": [
    "combined.major_occ_code.value_counts()"
   ]
  },
  {
   "cell_type": "markdown",
   "id": "110b45a3-11fd-4786-bee9-78988ad022eb",
   "metadata": {},
   "source": [
    "## Var_12: Age"
   ]
  },
  {
   "cell_type": "code",
   "execution_count": 71,
   "id": "8562a84e-f06d-4981-909c-52bd336a4d4b",
   "metadata": {},
   "outputs": [
    {
     "data": {
      "text/plain": [
       "0"
      ]
     },
     "execution_count": 71,
     "metadata": {},
     "output_type": "execute_result"
    }
   ],
   "source": [
    "combined.age.isnull().sum()"
   ]
  },
  {
   "cell_type": "code",
   "execution_count": 72,
   "id": "f52aa1b9-b167-4255-b36e-8b048561028f",
   "metadata": {},
   "outputs": [
    {
     "data": {
      "text/plain": [
       "count    147000.000000\n",
       "mean         36.207898\n",
       "std          23.433648\n",
       "min           0.000000\n",
       "25%          16.000000\n",
       "50%          35.000000\n",
       "75%          52.000000\n",
       "max          94.000000\n",
       "Name: age, dtype: float64"
      ]
     },
     "execution_count": 72,
     "metadata": {},
     "output_type": "execute_result"
    }
   ],
   "source": [
    "combined.age.describe()"
   ]
  },
  {
   "cell_type": "code",
   "execution_count": 73,
   "id": "b9d7bf95-fc03-4213-a959-c7f9eea1574e",
   "metadata": {},
   "outputs": [],
   "source": [
    "combined.fillna(36,inplace=True)"
   ]
  },
  {
   "cell_type": "code",
   "execution_count": 74,
   "id": "5cf02526-73a6-4b9e-b534-ce6a78a91a4f",
   "metadata": {},
   "outputs": [
    {
     "data": {
      "text/plain": [
       "<AxesSubplot:xlabel='age', ylabel='Density'>"
      ]
     },
     "execution_count": 74,
     "metadata": {},
     "output_type": "execute_result"
    },
    {
     "data": {
      "image/png": "[encoded data removed]",
      "text/plain": [
       "<Figure size 432x288 with 1 Axes>"
      ]
     },
     "metadata": {
      "needs_background": "light"
     },
     "output_type": "display_data"
    }
   ],
   "source": [
    "sns.distplot(combined.age)"
   ]
  },
  {
   "cell_type": "markdown",
   "id": "406c3639-4f55-4677-b074-07a61ae14c7b",
   "metadata": {},
   "source": [
    "## Var_13: mother_country"
   ]
  },
  {
   "cell_type": "code",
   "execution_count": 75,
   "id": "24b3b8bd-ed1f-46ab-90a4-957207983201",
   "metadata": {},
   "outputs": [
    {
     "data": {
      "text/plain": [
       " United-States                   118213\n",
       " Mexico                            7265\n",
       " ?                                 4492\n",
       " Puerto-Rico                       1865\n",
       " Italy                             1356\n",
       " Canada                            1035\n",
       " Germany                           1008\n",
       " Philippines                        911\n",
       " El-Salvador                        830\n",
       " Dominican-Republic                 810\n",
       " Cuba                               801\n",
       " Poland                             797\n",
       " England                            670\n",
       " China                              553\n",
       " South Korea                        452\n",
       " Columbia                           443\n",
       " Ireland                            437\n",
       " India                              415\n",
       " Vietnam                            346\n",
       " Japan                              345\n",
       " Jamaica                            336\n",
       " Guatemala                          336\n",
       " Ecuador                            271\n",
       " Haiti                              269\n",
       " Peru                               262\n",
       " Portugal                           247\n",
       " Nicaragua                          243\n",
       " Hungary                            221\n",
       " Scotland                           182\n",
       " Greece                             180\n",
       " Honduras                           164\n",
       " Taiwan                             162\n",
       " France                             158\n",
       " Iran                               142\n",
       " Yugoslavia                         142\n",
       " Laos                               112\n",
       " Cambodia                           112\n",
       " Outlying-U S (Guam USVI etc)       107\n",
       " Thailand                           100\n",
       " Hong Kong                           77\n",
       " Trinadad&Tobago                     72\n",
       " Holand-Netherlands                  36\n",
       " Panama                              25\n",
       "Name: mother_country, dtype: int64"
      ]
     },
     "execution_count": 75,
     "metadata": {},
     "output_type": "execute_result"
    }
   ],
   "source": [
    "combined.mother_country.value_counts()"
   ]
  },
  {
   "cell_type": "code",
   "execution_count": 76,
   "id": "29d90fb7-ff1b-41bf-a1da-128fa7eebc5a",
   "metadata": {},
   "outputs": [],
   "source": [
    "mapp=combined.mother_country.value_counts()/len(combined)"
   ]
  },
  {
   "cell_type": "code",
   "execution_count": 77,
   "id": "3d1a851d-7cbd-4f6a-b509-6731e5a97ada",
   "metadata": {},
   "outputs": [],
   "source": [
    "combined.mother_country=combined.mother_country.map(mapp)"
   ]
  },
  {
   "cell_type": "markdown",
   "id": "24ae1afa-f383-449f-8410-647509ea9c05",
   "metadata": {},
   "source": [
    "## var_14: house_summary"
   ]
  },
  {
   "cell_type": "code",
   "execution_count": 78,
   "id": "f2581e5b-0fa7-465d-ba44-b446ff4326d8",
   "metadata": {},
   "outputs": [
    {
     "data": {
      "text/plain": [
       "0"
      ]
     },
     "execution_count": 78,
     "metadata": {},
     "output_type": "execute_result"
    }
   ],
   "source": [
    "combined.house_summary.isnull().sum()"
   ]
  },
  {
   "cell_type": "code",
   "execution_count": 79,
   "id": "63ea9cad-407b-4b05-a5d9-ebe8ab1231d5",
   "metadata": {},
   "outputs": [
    {
     "data": {
      "text/plain": [
       " Householder           55671\n",
       "Child_U18_Unmarried    37066\n",
       "Spouse                 30722\n",
       "Child_Above18          10702\n",
       "Relative                7111\n",
       "Non_Relative            5595\n",
       "Sy_Individual            105\n",
       "Child_U18_Married         28\n",
       "Name: house_summary, dtype: int64"
      ]
     },
     "execution_count": 79,
     "metadata": {},
     "output_type": "execute_result"
    }
   ],
   "source": [
    "combined.house_summary.value_counts()"
   ]
  },
  {
   "cell_type": "code",
   "execution_count": 80,
   "id": "e538511b-6dfb-453b-a076-264ec25d2f5c",
   "metadata": {},
   "outputs": [
    {
     "data": {
      "text/plain": [
       "Index(['ID', 'year_of_poll', 'own_self_emp', 'veteran benefits',\n",
       "       'currently_enrolled', 'race', 'father_country', 'educ', 'house_stat',\n",
       "       'major_ind_code', 'labour_union', 'self_country', 'major_occ_code',\n",
       "       'age', 'mother_country', 'house_summary', 'gender', 'hisp_origin',\n",
       "       'gains', 'dividends', 'marriage_status', 'losses', 'employer_of',\n",
       "       'house_1yr_ago', 'income_filled', 'weeks_worked', 'under18',\n",
       "       'hourly_wage', 'unemp_reason', 'citizenship', 'woker_type',\n",
       "       'fed_liability', 'full_partime_job', 'income'],\n",
       "      dtype='object')"
      ]
     },
     "execution_count": 80,
     "metadata": {},
     "output_type": "execute_result"
    }
   ],
   "source": [
    "combined.columns"
   ]
  },
  {
   "cell_type": "markdown",
   "id": "ad6725a5-0dce-4638-bddd-0668cda65d54",
   "metadata": {},
   "source": [
    "## var_15:gender"
   ]
  },
  {
   "cell_type": "code",
   "execution_count": 81,
   "id": "419bd8a5-7b8f-4ab7-bb3f-3b55772e7078",
   "metadata": {},
   "outputs": [
    {
     "data": {
      "text/plain": [
       "F    76400\n",
       "M    70600\n",
       "Name: gender, dtype: int64"
      ]
     },
     "execution_count": 81,
     "metadata": {},
     "output_type": "execute_result"
    }
   ],
   "source": [
    "combined.gender.value_counts()"
   ]
  },
  {
   "cell_type": "code",
   "execution_count": 82,
   "id": "2285b22b-15c9-44e4-afef-e663747e51ef",
   "metadata": {},
   "outputs": [],
   "source": [
    "combined.gender=combined.gender.map({'F':0,'M':1})"
   ]
  },
  {
   "cell_type": "markdown",
   "id": "6d558452-560c-4a87-a6df-b64bde696842",
   "metadata": {},
   "source": [
    "## var_16: hisp_origin"
   ]
  },
  {
   "cell_type": "code",
   "execution_count": null,
   "id": "6629ecf7-e628-471d-8a0c-b5fa38ddd6d8",
   "metadata": {},
   "outputs": [],
   "source": []
  },
  {
   "cell_type": "code",
   "execution_count": 83,
   "id": "b5abd8f6-8613-46b9-bd7a-633b61179718",
   "metadata": {},
   "outputs": [
    {
     "data": {
      "text/plain": [
       "0"
      ]
     },
     "execution_count": 83,
     "metadata": {},
     "output_type": "execute_result"
    }
   ],
   "source": [
    "combined.hisp_origin.isnull().sum()"
   ]
  },
  {
   "cell_type": "code",
   "execution_count": 84,
   "id": "58521ebd-cc53-4943-bacf-32aae391259e",
   "metadata": {},
   "outputs": [
    {
     "data": {
      "text/plain": [
       "All_Other                 126503\n",
       "Mex_Amer                    5982\n",
       "Mexican_Mexicano            5358\n",
       "Central/South_American      2929\n",
       "Puer_Ric                    2451\n",
       "Other_Spanish               1867\n",
       " Cuban                       822\n",
       " NA                          648\n",
       " Chicano                     221\n",
       " Do not know                 219\n",
       "Name: hisp_origin, dtype: int64"
      ]
     },
     "execution_count": 84,
     "metadata": {},
     "output_type": "execute_result"
    }
   ],
   "source": [
    "combined.hisp_origin.value_counts()"
   ]
  },
  {
   "cell_type": "code",
   "execution_count": 85,
   "id": "ba2649ce-1546-4a66-b96f-73a6c1f6e41c",
   "metadata": {},
   "outputs": [],
   "source": [
    "combined.hisp_origin=combined.hisp_origin.str.strip()"
   ]
  },
  {
   "cell_type": "code",
   "execution_count": 86,
   "id": "c46e045e-3976-44e9-ba83-9bbbff233723",
   "metadata": {},
   "outputs": [],
   "source": [
    "combined.hisp_origin=combined.hisp_origin.str.replace('NA','All_Other')"
   ]
  },
  {
   "cell_type": "code",
   "execution_count": 87,
   "id": "74d99d80-5917-4085-9e43-14652cd782d0",
   "metadata": {},
   "outputs": [
    {
     "data": {
      "text/plain": [
       "All_Other                 127151\n",
       "Mex_Amer                    5982\n",
       "Mexican_Mexicano            5358\n",
       "Central/South_American      2929\n",
       "Puer_Ric                    2451\n",
       "Other_Spanish               1867\n",
       "Cuban                        822\n",
       "Chicano                      221\n",
       "Do not know                  219\n",
       "Name: hisp_origin, dtype: int64"
      ]
     },
     "execution_count": 87,
     "metadata": {},
     "output_type": "execute_result"
    }
   ],
   "source": [
    "combined.hisp_origin.value_counts()"
   ]
  },
  {
   "cell_type": "code",
   "execution_count": 88,
   "id": "90f23dbb-e841-4b92-93e7-acb04bd273d0",
   "metadata": {},
   "outputs": [
    {
     "data": {
      "text/plain": [
       "array(['All_Other', 'Mex_Amer', 'Chicano', 'Puer_Ric', 'Other_Spanish',\n",
       "       'Central/South_American', 'Cuban', 'Mexican_Mexicano',\n",
       "       'Do not know'], dtype=object)"
      ]
     },
     "execution_count": 88,
     "metadata": {},
     "output_type": "execute_result"
    }
   ],
   "source": [
    "combined.hisp_origin.unique()"
   ]
  },
  {
   "cell_type": "code",
   "execution_count": 89,
   "id": "f76e6d4c-7021-4a62-a24e-ef4a8a14c7ac",
   "metadata": {},
   "outputs": [],
   "source": [
    "lst=[]\n",
    "for i in combined.hisp_origin:\n",
    "    if i in ['Puer_Ric',\n",
    "    'Central/South_American','Cuban','Puer_Ric']:\n",
    "        lst.append('American')\n",
    "    elif i in ['Mex_Amer','Chicano','Mexican_Mexicano']:\n",
    "        lst.append('Maxican')    \n",
    "    else:\n",
    "        lst.append('Others')"
   ]
  },
  {
   "cell_type": "code",
   "execution_count": 90,
   "id": "436c4cbd-c3d3-4249-8c3a-d3e63e3ce10c",
   "metadata": {},
   "outputs": [
    {
     "data": {
      "text/plain": [
       "147000"
      ]
     },
     "execution_count": 90,
     "metadata": {},
     "output_type": "execute_result"
    }
   ],
   "source": [
    "len(lst)"
   ]
  },
  {
   "cell_type": "code",
   "execution_count": 91,
   "id": "dc27a20a-9a23-4dc8-9034-d675ddda2198",
   "metadata": {},
   "outputs": [],
   "source": [
    "combined.hisp_origin=lst"
   ]
  },
  {
   "cell_type": "markdown",
   "id": "94dc6621-e008-412c-8a2d-0cb0b5830122",
   "metadata": {},
   "source": [
    "## var_17 : gains"
   ]
  },
  {
   "cell_type": "code",
   "execution_count": 92,
   "id": "861919be-882d-4af1-8592-cfc36be9412c",
   "metadata": {},
   "outputs": [
    {
     "data": {
      "text/plain": [
       "0"
      ]
     },
     "execution_count": 92,
     "metadata": {},
     "output_type": "execute_result"
    }
   ],
   "source": [
    "combined.gains.isnull().sum()"
   ]
  },
  {
   "cell_type": "code",
   "execution_count": 93,
   "id": "596ddf4c-c477-4bac-a7a2-269ad0d451f5",
   "metadata": {},
   "outputs": [
    {
     "data": {
      "text/plain": [
       "<AxesSubplot:xlabel='gains'>"
      ]
     },
     "execution_count": 93,
     "metadata": {},
     "output_type": "execute_result"
    },
    {
     "data": {
      "image/png": "[encoded data removed]",
      "text/plain": [
       "<Figure size 432x288 with 1 Axes>"
      ]
     },
     "metadata": {
      "needs_background": "light"
     },
     "output_type": "display_data"
    }
   ],
   "source": [
    "sns.boxplot(combined.gains)"
   ]
  },
  {
   "cell_type": "markdown",
   "id": "ffa8ea4e-ea0a-40e2-a3d7-837ddd66b4e2",
   "metadata": {},
   "source": [
    "## var_18: dividends"
   ]
  },
  {
   "cell_type": "code",
   "execution_count": 94,
   "id": "7883af6b-dd7e-4f45-9c2b-ea3e817a0ff9",
   "metadata": {},
   "outputs": [
    {
     "data": {
      "text/plain": [
       "0.0        131435\n",
       "120.0         836\n",
       "600.0         761\n",
       "1200.0        657\n",
       "240.0         644\n",
       "            ...  \n",
       "1287.6          1\n",
       "4455.6          1\n",
       "45446.4         1\n",
       "20450.4         1\n",
       "3714.0          1\n",
       "Name: dividends, Length: 1332, dtype: int64"
      ]
     },
     "execution_count": 94,
     "metadata": {},
     "output_type": "execute_result"
    }
   ],
   "source": [
    "combined.dividends.value_counts()"
   ]
  },
  {
   "cell_type": "code",
   "execution_count": 95,
   "id": "85f03dcb-d54d-4a9f-8215-094c6c93d0ab",
   "metadata": {},
   "outputs": [
    {
     "data": {
      "text/plain": [
       "<AxesSubplot:xlabel='dividends'>"
      ]
     },
     "execution_count": 95,
     "metadata": {},
     "output_type": "execute_result"
    },
    {
     "data": {
      "image/png": "[encoded data removed]",
      "text/plain": [
       "<Figure size 432x288 with 1 Axes>"
      ]
     },
     "metadata": {
      "needs_background": "light"
     },
     "output_type": "display_data"
    }
   ],
   "source": [
    "sns.boxplot(combined.dividends)"
   ]
  },
  {
   "cell_type": "markdown",
   "id": "b105b2bb-ce50-4cf7-8103-b80caec272ac",
   "metadata": {},
   "source": [
    "## var_19 : marriage_status"
   ]
  },
  {
   "cell_type": "code",
   "execution_count": 96,
   "id": "3c3e7ea8-b384-4a22-ae77-8d352dcc442a",
   "metadata": {},
   "outputs": [
    {
     "data": {
      "text/plain": [
       "0"
      ]
     },
     "execution_count": 96,
     "metadata": {},
     "output_type": "execute_result"
    }
   ],
   "source": [
    "combined.marriage_status.isnull().sum()"
   ]
  },
  {
   "cell_type": "code",
   "execution_count": 97,
   "id": "8473bd19-2a02-4f85-abb2-d462e12bb276",
   "metadata": {},
   "outputs": [
    {
     "data": {
      "text/plain": [
       "Unmarried                 63715\n",
       "Married_civilian_Sp_Pr    61995\n",
       " Divorced                  9398\n",
       " Widowed                   7731\n",
       " Separated                 2586\n",
       "Married_Sp_Ab              1075\n",
       "Married_AF_Sp_Pr            500\n",
       "Name: marriage_status, dtype: int64"
      ]
     },
     "execution_count": 97,
     "metadata": {},
     "output_type": "execute_result"
    }
   ],
   "source": [
    "combined.marriage_status.value_counts()"
   ]
  },
  {
   "cell_type": "code",
   "execution_count": 98,
   "id": "38a80d60-e1d7-4c46-b489-a052bf884769",
   "metadata": {},
   "outputs": [],
   "source": [
    "combined.marriage_status=combined.marriage_status.map({'Unmarried':'Unmarried','Married_civilian_Sp_Pr':'Married',' Divorced':'Separated',' Widowed':'Separated'\n",
    "                             ,'Separated':'Separated','Married_Sp_Ab':'Married','Married_AF_Sp_Pr':'Married'})"
   ]
  },
  {
   "cell_type": "code",
   "execution_count": 99,
   "id": "1876482d-653f-48c6-8b9b-2b161c2198d7",
   "metadata": {},
   "outputs": [],
   "source": [
    "combined.marriage_status.ffill(inplace=True)"
   ]
  },
  {
   "cell_type": "code",
   "execution_count": 100,
   "id": "9749816b-6737-4581-97a1-f2222273f675",
   "metadata": {},
   "outputs": [
    {
     "data": {
      "text/plain": [
       "Unmarried    64891\n",
       "Married      64678\n",
       "Separated    17431\n",
       "Name: marriage_status, dtype: int64"
      ]
     },
     "execution_count": 100,
     "metadata": {},
     "output_type": "execute_result"
    }
   ],
   "source": [
    "combined.marriage_status.value_counts()"
   ]
  },
  {
   "cell_type": "markdown",
   "id": "a07c83ab-8855-4694-b0de-5dd0d4d790df",
   "metadata": {},
   "source": [
    "## var_20: losses"
   ]
  },
  {
   "cell_type": "code",
   "execution_count": 101,
   "id": "531d9e27-07af-433e-bae0-c05613682604",
   "metadata": {},
   "outputs": [
    {
     "data": {
      "text/plain": [
       "0"
      ]
     },
     "execution_count": 101,
     "metadata": {},
     "output_type": "execute_result"
    }
   ],
   "source": [
    "combined.losses.isnull().sum()"
   ]
  },
  {
   "cell_type": "code",
   "execution_count": 102,
   "id": "2f396798-bf64-4f62-b3c8-a7dd96d535b3",
   "metadata": {},
   "outputs": [
    {
     "data": {
      "text/plain": [
       "<AxesSubplot:xlabel='losses'>"
      ]
     },
     "execution_count": 102,
     "metadata": {},
     "output_type": "execute_result"
    },
    {
     "data": {
      "image/png": "[encoded data removed]",
      "text/plain": [
       "<Figure size 432x288 with 1 Axes>"
      ]
     },
     "metadata": {
      "needs_background": "light"
     },
     "output_type": "display_data"
    }
   ],
   "source": [
    "sns.boxplot(combined.losses)"
   ]
  },
  {
   "cell_type": "code",
   "execution_count": 103,
   "id": "27804b24-e361-4166-8cbe-a45cf2ea139d",
   "metadata": {},
   "outputs": [
    {
     "data": {
      "text/plain": [
       "Index(['ID', 'year_of_poll', 'own_self_emp', 'veteran benefits',\n",
       "       'currently_enrolled', 'race', 'father_country', 'educ', 'house_stat',\n",
       "       'major_ind_code', 'labour_union', 'self_country', 'major_occ_code',\n",
       "       'age', 'mother_country', 'house_summary', 'gender', 'hisp_origin',\n",
       "       'gains', 'dividends', 'marriage_status', 'losses', 'employer_of',\n",
       "       'house_1yr_ago', 'income_filled', 'weeks_worked', 'under18',\n",
       "       'hourly_wage', 'unemp_reason', 'citizenship', 'woker_type',\n",
       "       'fed_liability', 'full_partime_job', 'income'],\n",
       "      dtype='object')"
      ]
     },
     "execution_count": 103,
     "metadata": {},
     "output_type": "execute_result"
    }
   ],
   "source": [
    "combined.columns"
   ]
  },
  {
   "cell_type": "markdown",
   "id": "6a38fa78-8f4e-4a13-86dc-31758e8e864c",
   "metadata": {},
   "source": [
    "## var_21: employer_of"
   ]
  },
  {
   "cell_type": "code",
   "execution_count": 104,
   "id": "b08bbaab-f33e-4376-8e49-ca24eb4cf8af",
   "metadata": {},
   "outputs": [
    {
     "data": {
      "text/plain": [
       "0    70641\n",
       "6    26867\n",
       "1    17053\n",
       "4    10604\n",
       "3     9885\n",
       "2     7479\n",
       "5     4471\n",
       "Name: employer_of, dtype: int64"
      ]
     },
     "execution_count": 104,
     "metadata": {},
     "output_type": "execute_result"
    }
   ],
   "source": [
    "combined.employer_of.value_counts()"
   ]
  },
  {
   "cell_type": "code",
   "execution_count": 105,
   "id": "08eb8721-7908-4c3b-ad00-f701e86766e6",
   "metadata": {},
   "outputs": [
    {
     "data": {
      "text/plain": [
       "0"
      ]
     },
     "execution_count": 105,
     "metadata": {},
     "output_type": "execute_result"
    }
   ],
   "source": [
    "combined.employer_of.isnull().sum()"
   ]
  },
  {
   "cell_type": "markdown",
   "id": "f23cfcdf-b70c-4187-8d4a-bb0e461d9b2b",
   "metadata": {},
   "source": [
    "## var_22: house_1yr_ago"
   ]
  },
  {
   "cell_type": "code",
   "execution_count": 106,
   "id": "c7862f91-c922-4e72-abfd-bc0cbe099ebc",
   "metadata": {},
   "outputs": [
    {
     "data": {
      "text/plain": [
       "0       74720\n",
       " Yes    60711\n",
       " No     11569\n",
       "Name: house_1yr_ago, dtype: int64"
      ]
     },
     "execution_count": 106,
     "metadata": {},
     "output_type": "execute_result"
    }
   ],
   "source": [
    "combined.house_1yr_ago.value_counts()"
   ]
  },
  {
   "cell_type": "markdown",
   "id": "5aa6e03f-2dd0-4fd9-90e5-5074eeb65369",
   "metadata": {},
   "source": [
    "## var_23: income_filled"
   ]
  },
  {
   "cell_type": "code",
   "execution_count": 107,
   "id": "ee14cad8-291d-4dc4-9c4c-940238c2e970",
   "metadata": {},
   "outputs": [
    {
     "data": {
      "text/plain": [
       " No     78791\n",
       "0       45411\n",
       " Yes    22798\n",
       "Name: income_filled, dtype: int64"
      ]
     },
     "execution_count": 107,
     "metadata": {},
     "output_type": "execute_result"
    }
   ],
   "source": [
    "combined.income_filled.value_counts()"
   ]
  },
  {
   "cell_type": "code",
   "execution_count": 108,
   "id": "c66995a5-d522-47df-9734-0422beb754e2",
   "metadata": {},
   "outputs": [
    {
     "data": {
      "text/plain": [
       "0"
      ]
     },
     "execution_count": 108,
     "metadata": {},
     "output_type": "execute_result"
    }
   ],
   "source": [
    "combined.income_filled.isnull().sum()"
   ]
  },
  {
   "cell_type": "markdown",
   "id": "2a739f57-f7ff-4a37-8584-314448ab378a",
   "metadata": {},
   "source": [
    "## var_24: weeks_worked"
   ]
  },
  {
   "cell_type": "code",
   "execution_count": 109,
   "id": "af6b18bc-610d-41f0-adda-d28c328ac8ab",
   "metadata": {},
   "outputs": [
    {
     "data": {
      "text/plain": [
       "0     70641\n",
       "47    51805\n",
       "36     2100\n",
       "45     1683\n",
       "23     1676\n",
       "43     1375\n",
       "32     1325\n",
       "11     1311\n",
       "40     1122\n",
       "27     1001\n",
       "14      984\n",
       "18      962\n",
       "22      922\n",
       "7       841\n",
       "4       794\n",
       "29      659\n",
       "46      590\n",
       "9       529\n",
       "41      506\n",
       "5       495\n",
       "35      443\n",
       "38      422\n",
       "25      398\n",
       "44      393\n",
       "12      371\n",
       "2       337\n",
       "1       331\n",
       "3       295\n",
       "39      280\n",
       "20      280\n",
       "34      270\n",
       "15      250\n",
       "42      208\n",
       "16      200\n",
       "13      197\n",
       "8       170\n",
       "31      160\n",
       "6       108\n",
       "19       92\n",
       "33       86\n",
       "37       64\n",
       "24       56\n",
       "30       53\n",
       "21       52\n",
       "10       51\n",
       "26       48\n",
       "28       34\n",
       "17       30\n",
       "Name: weeks_worked, dtype: int64"
      ]
     },
     "execution_count": 109,
     "metadata": {},
     "output_type": "execute_result"
    }
   ],
   "source": [
    "combined.weeks_worked.value_counts()"
   ]
  },
  {
   "cell_type": "code",
   "execution_count": 110,
   "id": "fa1bd404-2b16-49b7-9b6c-1afb9efde9b4",
   "metadata": {},
   "outputs": [
    {
     "data": {
      "text/plain": [
       "0"
      ]
     },
     "execution_count": 110,
     "metadata": {},
     "output_type": "execute_result"
    }
   ],
   "source": [
    "combined.weeks_worked.isnull().sum()"
   ]
  },
  {
   "cell_type": "markdown",
   "id": "96dbb5e7-cb8d-42ea-bc02-e9ade2206dde",
   "metadata": {},
   "source": [
    "## var_25: under18"
   ]
  },
  {
   "cell_type": "code",
   "execution_count": 111,
   "id": "2ef24538-fa06-40ad-8a80-c54022e3a9a6",
   "metadata": {},
   "outputs": [
    {
     "data": {
      "text/plain": [
       "0           106356\n",
       "Both_Pr      28652\n",
       "Only_Mom      9431\n",
       "Only_Dad      1375\n",
       "Both_Ab       1186\n",
       "Name: under18, dtype: int64"
      ]
     },
     "execution_count": 111,
     "metadata": {},
     "output_type": "execute_result"
    }
   ],
   "source": [
    "combined.under18.value_counts()"
   ]
  },
  {
   "cell_type": "code",
   "execution_count": 112,
   "id": "5d5535b5-f0cb-42c9-974f-f137b794aef5",
   "metadata": {},
   "outputs": [
    {
     "data": {
      "text/plain": [
       "0"
      ]
     },
     "execution_count": 112,
     "metadata": {},
     "output_type": "execute_result"
    }
   ],
   "source": [
    "combined.under18.isnull().sum()"
   ]
  },
  {
   "cell_type": "markdown",
   "id": "ebbe774c-ce73-4f93-88d8-e70d5958eadb",
   "metadata": {},
   "source": [
    "### DROP THIS COLUMN"
   ]
  },
  {
   "cell_type": "markdown",
   "id": "dd10e981-16bf-40b3-94cb-da9492defc17",
   "metadata": {},
   "source": [
    "## var_26: hourly_wage"
   ]
  },
  {
   "cell_type": "code",
   "execution_count": 113,
   "id": "f55aecdf-664a-4c9a-b22f-6d86dbe1bb87",
   "metadata": {},
   "outputs": [
    {
     "data": {
      "text/plain": [
       "0.0       138658\n",
       "850.0        537\n",
       "1020.0       402\n",
       "1190.0       392\n",
       "1360.0       370\n",
       "           ...  \n",
       "1722.1         1\n",
       "3068.5         1\n",
       "3641.4         1\n",
       "3201.1         1\n",
       "2402.1         1\n",
       "Name: hourly_wage, Length: 1082, dtype: int64"
      ]
     },
     "execution_count": 113,
     "metadata": {},
     "output_type": "execute_result"
    }
   ],
   "source": [
    "combined.hourly_wage.value_counts()"
   ]
  },
  {
   "cell_type": "code",
   "execution_count": 114,
   "id": "e93c5ab5-af35-4b30-90cb-acb40e461341",
   "metadata": {},
   "outputs": [
    {
     "data": {
      "text/plain": [
       "0"
      ]
     },
     "execution_count": 114,
     "metadata": {},
     "output_type": "execute_result"
    }
   ],
   "source": [
    "combined.hourly_wage.isnull().sum()"
   ]
  },
  {
   "cell_type": "markdown",
   "id": "58961ff0-8dbe-46c8-b353-2db52fad34ca",
   "metadata": {},
   "source": [
    "## var_27: unemp_reason"
   ]
  },
  {
   "cell_type": "code",
   "execution_count": 115,
   "id": "3d442f15-8e57-4927-b534-6ab9b31458b0",
   "metadata": {},
   "outputs": [
    {
     "data": {
      "text/plain": [
       "0                   142526\n",
       "Job loser_Other       1492\n",
       " Re-entrant           1491\n",
       "Job loser_layoff       728\n",
       " Job leaver            452\n",
       " New entrant           311\n",
       "Name: unemp_reason, dtype: int64"
      ]
     },
     "execution_count": 115,
     "metadata": {},
     "output_type": "execute_result"
    }
   ],
   "source": [
    "combined.unemp_reason.value_counts()"
   ]
  },
  {
   "cell_type": "code",
   "execution_count": 116,
   "id": "e81a389d-08e6-4f46-8d7a-5a01f8a5e95c",
   "metadata": {},
   "outputs": [
    {
     "data": {
      "text/plain": [
       "0"
      ]
     },
     "execution_count": 116,
     "metadata": {},
     "output_type": "execute_result"
    }
   ],
   "source": [
    "combined.unemp_reason.isnull().sum()"
   ]
  },
  {
   "cell_type": "code",
   "execution_count": 117,
   "id": "135e2b42-95e5-4bdd-8333-a8a1ca54a347",
   "metadata": {},
   "outputs": [
    {
     "data": {
      "text/plain": [
       "ID                    0\n",
       "year_of_poll          0\n",
       "own_self_emp          0\n",
       "veteran benefits      0\n",
       "currently_enrolled    0\n",
       "race                  0\n",
       "father_country        0\n",
       "educ                  0\n",
       "house_stat            0\n",
       "major_ind_code        0\n",
       "labour_union          0\n",
       "self_country          0\n",
       "major_occ_code        0\n",
       "age                   0\n",
       "mother_country        0\n",
       "house_summary         0\n",
       "gender                0\n",
       "hisp_origin           0\n",
       "gains                 0\n",
       "dividends             0\n",
       "marriage_status       0\n",
       "losses                0\n",
       "employer_of           0\n",
       "house_1yr_ago         0\n",
       "income_filled         0\n",
       "weeks_worked          0\n",
       "under18               0\n",
       "hourly_wage           0\n",
       "unemp_reason          0\n",
       "citizenship           0\n",
       "woker_type            0\n",
       "fed_liability         0\n",
       "full_partime_job      0\n",
       "income                0\n",
       "dtype: int64"
      ]
     },
     "execution_count": 117,
     "metadata": {},
     "output_type": "execute_result"
    }
   ],
   "source": [
    "combined.isnull().sum()"
   ]
  },
  {
   "cell_type": "code",
   "execution_count": 119,
   "id": "8a2780bb-7b96-440c-ab09-f01a265767b0",
   "metadata": {},
   "outputs": [],
   "source": [
    "combined.drop(['ID','year_of_poll','under18','unemp_reason'],axis=1,inplace=True)"
   ]
  },
  {
   "cell_type": "code",
   "execution_count": 120,
   "id": "8146cba9-960e-4239-8de6-9c527a543543",
   "metadata": {},
   "outputs": [],
   "source": [
    "combined.income.replace({'More than 50K $':1, 'Less than 50K $':0},inplace=True)"
   ]
  },
  {
   "cell_type": "code",
   "execution_count": null,
   "id": "c684086a-e35b-42aa-9a59-c2ebfcbe7516",
   "metadata": {},
   "outputs": [],
   "source": []
  },
  {
   "cell_type": "code",
   "execution_count": 121,
   "id": "96772555-8aef-4af3-8f84-a62fb5fd9d13",
   "metadata": {},
   "outputs": [],
   "source": [
    "dummy_data=pd.get_dummies(combined,drop_first=True)"
   ]
  },
  {
   "cell_type": "code",
   "execution_count": 122,
   "id": "4f1c9e86-4944-49d8-a658-c0297c670b02",
   "metadata": {},
   "outputs": [
    {
     "data": {
      "text/plain": [
       "(147000, 75)"
      ]
     },
     "execution_count": 122,
     "metadata": {},
     "output_type": "execute_result"
    }
   ],
   "source": [
    "dummy_data.shape"
   ]
  },
  {
   "cell_type": "markdown",
   "id": "648917ee-09ef-41b5-b539-8428a9a8b9ca",
   "metadata": {},
   "source": [
    "### split the data"
   ]
  },
  {
   "cell_type": "code",
   "execution_count": 123,
   "id": "27b7e21a-7ff1-40ab-bcbe-8d59e0b931c5",
   "metadata": {},
   "outputs": [],
   "source": [
    "final_train=dummy_data.loc[~(dummy_data.income.isnull()),:]\n",
    "final_test=dummy_data.loc[dummy_data.income.isnull(),:]"
   ]
  },
  {
   "cell_type": "code",
   "execution_count": 124,
   "id": "5630ba0d-4ec5-4d96-847c-694704f719a5",
   "metadata": {},
   "outputs": [],
   "source": [
    "final_test.drop('income',axis=1,inplace=True)"
   ]
  },
  {
   "cell_type": "code",
   "execution_count": 125,
   "id": "50945672-dfd1-4ba8-91f9-362114cc1f36",
   "metadata": {},
   "outputs": [],
   "source": [
    "X=final_train.drop('income',axis=1)\n",
    "y=final_train.income"
   ]
  },
  {
   "cell_type": "code",
   "execution_count": 152,
   "id": "f92a8f9c-86b6-4e53-8bc1-583c5aaeeef8",
   "metadata": {},
   "outputs": [],
   "source": [
    "xtrain,xtest,ytrain,ytest=train_test_split(X,y,test_size=0.2,stratify=y)"
   ]
  },
  {
   "cell_type": "code",
   "execution_count": 153,
   "id": "01e27695-4e75-4678-9dbf-b6665a14618c",
   "metadata": {},
   "outputs": [],
   "source": [
    "from sklearn.metrics import classification_report,accuracy_score"
   ]
  },
  {
   "cell_type": "code",
   "execution_count": 154,
   "id": "3d09af9b-0a5a-4e09-b3a9-8fefa11fe753",
   "metadata": {},
   "outputs": [
    {
     "name": "stdout",
     "output_type": "stream",
     "text": [
      "              precision    recall  f1-score   support\n",
      "\n",
      "           0       0.76      0.74      0.75     22062\n",
      "           1       0.27      0.29      0.28      7338\n",
      "\n",
      "    accuracy                           0.63     29400\n",
      "   macro avg       0.51      0.51      0.51     29400\n",
      "weighted avg       0.64      0.63      0.63     29400\n",
      "\n"
     ]
    }
   ],
   "source": [
    "dt=DecisionTreeClassifier()\n",
    "model_dt=dt.fit(xtrain,ytrain)\n",
    "pred_dt=model_dt.predict(xtest)\n",
    "print(classification_report(pred_dt,ytest))"
   ]
  },
  {
   "cell_type": "code",
   "execution_count": 143,
   "id": "cd8cd20f-950a-4183-abca-c599b7a32873",
   "metadata": {},
   "outputs": [],
   "source": [
    "from lightgbm import LGBMClassifier"
   ]
  },
  {
   "cell_type": "code",
   "execution_count": 187,
   "id": "9b83a184-e20c-4ea0-a201-940a40c78b3e",
   "metadata": {},
   "outputs": [],
   "source": [
    "lg=LGBMClassifier(n_estimators=500,class_weight={0:140000/100000,1:140000/40000})\n",
    "model_lg=lg.fit(xtrain,ytrain)\n",
    "pred_lg=model_lg.predict(xtest)"
   ]
  },
  {
   "cell_type": "code",
   "execution_count": 188,
   "id": "acc9086d-9070-4ef7-bfdd-84c924877fb0",
   "metadata": {},
   "outputs": [
    {
     "name": "stdout",
     "output_type": "stream",
     "text": [
      "              precision    recall  f1-score   support\n",
      "\n",
      "           0       0.82      0.75      0.78     23365\n",
      "           1       0.26      0.35      0.30      6035\n",
      "\n",
      "    accuracy                           0.67     29400\n",
      "   macro avg       0.54      0.55      0.54     29400\n",
      "weighted avg       0.70      0.67      0.68     29400\n",
      "\n"
     ]
    }
   ],
   "source": [
    "print(classification_report(pred_lg,ytest))"
   ]
  },
  {
   "cell_type": "code",
   "execution_count": 186,
   "id": "74dc3bec-b618-44f4-81ed-2e43a24d39d2",
   "metadata": {},
   "outputs": [
    {
     "data": {
      "text/plain": [
       "0.5741496598639456"
      ]
     },
     "execution_count": 186,
     "metadata": {},
     "output_type": "execute_result"
    }
   ],
   "source": [
    "accuracy_score(pred_lg,ytest)"
   ]
  },
  {
   "cell_type": "code",
   "execution_count": 139,
   "id": "3e9c8fd0-213e-43a8-8913-98843b36d1fc",
   "metadata": {},
   "outputs": [
    {
     "data": {
      "text/plain": [
       "0    107272\n",
       "1     39728\n",
       "Name: income, dtype: int64"
      ]
     },
     "execution_count": 139,
     "metadata": {},
     "output_type": "execute_result"
    }
   ],
   "source": [
    "y.value_counts()"
   ]
  },
  {
   "cell_type": "code",
   "execution_count": 147,
   "id": "d9fa5246-f7d2-47f9-96a0-c4e4985185e0",
   "metadata": {},
   "outputs": [
    {
     "data": {
      "text/html": [
       "<style>#sk-container-id-1 {color: black;background-color: white;}#sk-container-id-1 pre{padding: 0;}#sk-container-id-1 div.sk-toggleable {background-color: white;}#sk-container-id-1 label.sk-toggleable__label {cursor: pointer;display: block;width: 100%;margin-bottom: 0;padding: 0.3em;box-sizing: border-box;text-align: center;}#sk-container-id-1 label.sk-toggleable__label-arrow:before {content: \"▸\";float: left;margin-right: 0.25em;color: #696969;}#sk-container-id-1 label.sk-toggleable__label-arrow:hover:before {color: black;}#sk-container-id-1 div.sk-estimator:hover label.sk-toggleable__label-arrow:before {color: black;}#sk-container-id-1 div.sk-toggleable__content {max-height: 0;max-width: 0;overflow: hidden;text-align: left;background-color: #f0f8ff;}#sk-container-id-1 div.sk-toggleable__content pre {margin: 0.2em;color: black;border-radius: 0.25em;background-color: #f0f8ff;}#sk-container-id-1 input.sk-toggleable__control:checked~div.sk-toggleable__content {max-height: 200px;max-width: 100%;overflow: auto;}#sk-container-id-1 input.sk-toggleable__control:checked~label.sk-toggleable__label-arrow:before {content: \"▾\";}#sk-container-id-1 div.sk-estimator input.sk-toggleable__control:checked~label.sk-toggleable__label {background-color: #d4ebff;}#sk-container-id-1 div.sk-label input.sk-toggleable__control:checked~label.sk-toggleable__label {background-color: #d4ebff;}#sk-container-id-1 input.sk-hidden--visually {border: 0;clip: rect(1px 1px 1px 1px);clip: rect(1px, 1px, 1px, 1px);height: 1px;margin: -1px;overflow: hidden;padding: 0;position: absolute;width: 1px;}#sk-container-id-1 div.sk-estimator {font-family: monospace;background-color: #f0f8ff;border: 1px dotted black;border-radius: 0.25em;box-sizing: border-box;margin-bottom: 0.5em;}#sk-container-id-1 div.sk-estimator:hover {background-color: #d4ebff;}#sk-container-id-1 div.sk-parallel-item::after {content: \"\";width: 100%;border-bottom: 1px solid gray;flex-grow: 1;}#sk-container-id-1 div.sk-label:hover label.sk-toggleable__label {background-color: #d4ebff;}#sk-container-id-1 div.sk-serial::before {content: \"\";position: absolute;border-left: 1px solid gray;box-sizing: border-box;top: 0;bottom: 0;left: 50%;z-index: 0;}#sk-container-id-1 div.sk-serial {display: flex;flex-direction: column;align-items: center;background-color: white;padding-right: 0.2em;padding-left: 0.2em;position: relative;}#sk-container-id-1 div.sk-item {position: relative;z-index: 1;}#sk-container-id-1 div.sk-parallel {display: flex;align-items: stretch;justify-content: center;background-color: white;position: relative;}#sk-container-id-1 div.sk-item::before, #sk-container-id-1 div.sk-parallel-item::before {content: \"\";position: absolute;border-left: 1px solid gray;box-sizing: border-box;top: 0;bottom: 0;left: 50%;z-index: -1;}#sk-container-id-1 div.sk-parallel-item {display: flex;flex-direction: column;z-index: 1;position: relative;background-color: white;}#sk-container-id-1 div.sk-parallel-item:first-child::after {align-self: flex-end;width: 50%;}#sk-container-id-1 div.sk-parallel-item:last-child::after {align-self: flex-start;width: 50%;}#sk-container-id-1 div.sk-parallel-item:only-child::after {width: 0;}#sk-container-id-1 div.sk-dashed-wrapped {border: 1px dashed gray;margin: 0 0.4em 0.5em 0.4em;box-sizing: border-box;padding-bottom: 0.4em;background-color: white;}#sk-container-id-1 div.sk-label label {font-family: monospace;font-weight: bold;display: inline-block;line-height: 1.2em;}#sk-container-id-1 div.sk-label-container {text-align: center;}#sk-container-id-1 div.sk-container {/* jupyter's `normalize.less` sets `[hidden] { display: none; }` but bootstrap.min.css set `[hidden] { display: none !important; }` so we also need the `!important` here to be able to override the default hidden behavior on the sphinx rendered scikit-learn.org. See: https://github.com/scikit-learn/scikit-learn/issues/21755 */display: inline-block !important;position: relative;}#sk-container-id-1 div.sk-text-repr-fallback {display: none;}</style><div id=\"sk-container-id-1\" class=\"sk-top-container\"><div class=\"sk-text-repr-fallback\"><pre>StackingClassifier(estimators=[(&#x27;Decision Tree&#x27;,\n",
       "                                DecisionTreeClassifier(max_depth=9,\n",
       "                                                       min_samples_split=70)),\n",
       "                               (&#x27;Random Forest&#x27;,\n",
       "                                RandomForestClassifier(max_depth=9,\n",
       "                                                       min_samples_split=30))],\n",
       "                   final_estimator=AdaBoostClassifier(random_state=8))</pre><b>In a Jupyter environment, please rerun this cell to show the HTML representation or trust the notebook. <br />On GitHub, the HTML representation is unable to render, please try loading this page with nbviewer.org.</b></div><div class=\"sk-container\" hidden><div class=\"sk-item sk-dashed-wrapped\"><div class=\"sk-label-container\"><div class=\"sk-label sk-toggleable\"><input class=\"sk-toggleable__control sk-hidden--visually\" id=\"sk-estimator-id-1\" type=\"checkbox\" ><label for=\"sk-estimator-id-1\" class=\"sk-toggleable__label sk-toggleable__label-arrow\">StackingClassifier</label><div class=\"sk-toggleable__content\"><pre>StackingClassifier(estimators=[(&#x27;Decision Tree&#x27;,\n",
       "                                DecisionTreeClassifier(max_depth=9,\n",
       "                                                       min_samples_split=70)),\n",
       "                               (&#x27;Random Forest&#x27;,\n",
       "                                RandomForestClassifier(max_depth=9,\n",
       "                                                       min_samples_split=30))],\n",
       "                   final_estimator=AdaBoostClassifier(random_state=8))</pre></div></div></div><div class=\"sk-serial\"><div class=\"sk-item\"><div class=\"sk-parallel\"><div class=\"sk-parallel-item\"><div class=\"sk-item\"><div class=\"sk-label-container\"><div class=\"sk-label sk-toggleable\"><label>Decision Tree</label></div></div><div class=\"sk-serial\"><div class=\"sk-item\"><div class=\"sk-estimator sk-toggleable\"><input class=\"sk-toggleable__control sk-hidden--visually\" id=\"sk-estimator-id-2\" type=\"checkbox\" ><label for=\"sk-estimator-id-2\" class=\"sk-toggleable__label sk-toggleable__label-arrow\">DecisionTreeClassifier</label><div class=\"sk-toggleable__content\"><pre>DecisionTreeClassifier(max_depth=9, min_samples_split=70)</pre></div></div></div></div></div></div><div class=\"sk-parallel-item\"><div class=\"sk-item\"><div class=\"sk-label-container\"><div class=\"sk-label sk-toggleable\"><label>Random Forest</label></div></div><div class=\"sk-serial\"><div class=\"sk-item\"><div class=\"sk-estimator sk-toggleable\"><input class=\"sk-toggleable__control sk-hidden--visually\" id=\"sk-estimator-id-3\" type=\"checkbox\" ><label for=\"sk-estimator-id-3\" class=\"sk-toggleable__label sk-toggleable__label-arrow\">RandomForestClassifier</label><div class=\"sk-toggleable__content\"><pre>RandomForestClassifier(max_depth=9, min_samples_split=30)</pre></div></div></div></div></div></div></div></div><div class=\"sk-item\"><div class=\"sk-parallel\"><div class=\"sk-parallel-item\"><div class=\"sk-item\"><div class=\"sk-label-container\"><div class=\"sk-label sk-toggleable\"><label>final_estimator</label></div></div><div class=\"sk-serial\"><div class=\"sk-item\"><div class=\"sk-estimator sk-toggleable\"><input class=\"sk-toggleable__control sk-hidden--visually\" id=\"sk-estimator-id-4\" type=\"checkbox\" ><label for=\"sk-estimator-id-4\" class=\"sk-toggleable__label sk-toggleable__label-arrow\">AdaBoostClassifier</label><div class=\"sk-toggleable__content\"><pre>AdaBoostClassifier(random_state=8)</pre></div></div></div></div></div></div></div></div></div></div></div></div>"
      ],
      "text/plain": [
       "StackingClassifier(estimators=[('Decision Tree',\n",
       "                                DecisionTreeClassifier(max_depth=9,\n",
       "                                                       min_samples_split=70)),\n",
       "                               ('Random Forest',\n",
       "                                RandomForestClassifier(max_depth=9,\n",
       "                                                       min_samples_split=30))],\n",
       "                   final_estimator=AdaBoostClassifier(random_state=8))"
      ]
     },
     "execution_count": 147,
     "metadata": {},
     "output_type": "execute_result"
    }
   ],
   "source": [
    "from sklearn.ensemble import StackingClassifier\n",
    "# type your code here\n",
    "base_learners = [('Decision Tree', DecisionTreeClassifier(max_depth=9,min_samples_split=70)),\n",
    "                 ('Random Forest', RandomForestClassifier(n_estimators=100,max_depth=9,min_samples_split=30))]\n",
    "stack_model_AdaBoost = StackingClassifier(estimators = base_learners, final_estimator = AdaBoostClassifier(random_state = 8))\n",
    "\n",
    "# fit the model on train dataset\n",
    "stack_model_AdaBoost.fit(xtrain, ytrain)"
   ]
  },
  {
   "cell_type": "code",
   "execution_count": 149,
   "id": "63e64469-cbf9-473f-87a0-4fbb22e56bf9",
   "metadata": {},
   "outputs": [],
   "source": [
    "pred=stack_model_AdaBoost.predict(xtest)"
   ]
  },
  {
   "cell_type": "code",
   "execution_count": 151,
   "id": "f5b18cea-4839-47b3-a62f-ee0ca5fee612",
   "metadata": {},
   "outputs": [
    {
     "name": "stdout",
     "output_type": "stream",
     "text": [
      "              precision    recall  f1-score   support\n",
      "\n",
      "           0       0.99      0.73      0.84     28732\n",
      "           1       0.05      0.61      0.09       668\n",
      "\n",
      "    accuracy                           0.73     29400\n",
      "   macro avg       0.52      0.67      0.47     29400\n",
      "weighted avg       0.97      0.73      0.83     29400\n",
      "\n"
     ]
    }
   ],
   "source": [
    "print(classification_report(pred,ytest))"
   ]
  },
  {
   "cell_type": "code",
   "execution_count": 157,
   "id": "908ffd52-4897-4f4f-b1cd-0c52fd77eccc",
   "metadata": {},
   "outputs": [
    {
     "data": {
      "text/plain": [
       "0    85818\n",
       "1    31782\n",
       "Name: income, dtype: int64"
      ]
     },
     "execution_count": 157,
     "metadata": {},
     "output_type": "execute_result"
    }
   ],
   "source": []
  },
  {
   "cell_type": "code",
   "execution_count": null,
   "id": "27555e41-e372-4ca6-8a28-6ef9d0fe2bb6",
   "metadata": {},
   "outputs": [],
   "source": []
  }
 ],
 "metadata": {
  "kernelspec": {
   "display_name": "Python 3 (ipykernel)",
   "language": "python",
   "name": "python3"
  },
  "language_info": {
   "codemirror_mode": {
    "name": "ipython",
    "version": 3
   },
   "file_extension": ".py",
   "mimetype": "text/x-python",
   "name": "python",
   "nbconvert_exporter": "python",
   "pygments_lexer": "ipython3",
   "version": "3.9.7"
  }
 },
 "nbformat": 4,
 "nbformat_minor": 5
}
