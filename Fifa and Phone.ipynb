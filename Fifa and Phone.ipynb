{
 "cells": [
  {
   "cell_type": "code",
   "execution_count": 1,
   "id": "b607b164-5585-4ceb-a284-06c9a08afc27",
   "metadata": {},
   "outputs": [],
   "source": [
    "import numpy as np\n",
    "import pandas as pd \n",
    "import matplotlib.pyplot as plt\n",
    "import seaborn as sns\n",
    "from pandas import DataFrame as dff\n",
    "from pandas import Series\n",
    "import warnings\n",
    "warnings.filterwarnings('ignore')"
   ]
  },
  {
   "cell_type": "code",
   "execution_count": 2,
   "id": "661435e4-2e2e-4a0a-b9ef-f46edb211968",
   "metadata": {},
   "outputs": [],
   "source": [
    "fifa=pd.read_csv('fifa_stats.csv')"
   ]
  },
  {
   "cell_type": "code",
   "execution_count": 3,
   "id": "e3cfbc99-2290-45b4-9efa-cfd60c1a4324",
   "metadata": {},
   "outputs": [
    {
     "data": {
      "text/html": [
       "<div>\n",
       "<style scoped>\n",
       "    .dataframe tbody tr th:only-of-type {\n",
       "        vertical-align: middle;\n",
       "    }\n",
       "\n",
       "    .dataframe tbody tr th {\n",
       "        vertical-align: top;\n",
       "    }\n",
       "\n",
       "    .dataframe thead th {\n",
       "        text-align: right;\n",
       "    }\n",
       "</style>\n",
       "<table border=\"1\" class=\"dataframe\">\n",
       "  <thead>\n",
       "    <tr style=\"text-align: right;\">\n",
       "      <th></th>\n",
       "      <th>Name</th>\n",
       "      <th>Age</th>\n",
       "      <th>Nationality</th>\n",
       "      <th>Overall_rating</th>\n",
       "      <th>Potential</th>\n",
       "      <th>Club</th>\n",
       "      <th>Preferred Foot</th>\n",
       "      <th>International Reputation</th>\n",
       "      <th>Weak Foot</th>\n",
       "      <th>Skill Moves</th>\n",
       "      <th>Work Rate</th>\n",
       "      <th>Position</th>\n",
       "      <th>Jersey Number</th>\n",
       "      <th>Height</th>\n",
       "      <th>Weight</th>\n",
       "    </tr>\n",
       "  </thead>\n",
       "  <tbody>\n",
       "    <tr>\n",
       "      <th>0</th>\n",
       "      <td>L. Messi</td>\n",
       "      <td>31</td>\n",
       "      <td>Argentina</td>\n",
       "      <td>94</td>\n",
       "      <td>94</td>\n",
       "      <td>FC Barcelona</td>\n",
       "      <td>Left</td>\n",
       "      <td>5</td>\n",
       "      <td>4</td>\n",
       "      <td>4</td>\n",
       "      <td>Medium/ Medium</td>\n",
       "      <td>RF</td>\n",
       "      <td>10</td>\n",
       "      <td>5.583333</td>\n",
       "      <td>159</td>\n",
       "    </tr>\n",
       "    <tr>\n",
       "      <th>1</th>\n",
       "      <td>Cristiano Ronaldo</td>\n",
       "      <td>33</td>\n",
       "      <td>Portugal</td>\n",
       "      <td>94</td>\n",
       "      <td>94</td>\n",
       "      <td>Juventus</td>\n",
       "      <td>Right</td>\n",
       "      <td>5</td>\n",
       "      <td>4</td>\n",
       "      <td>5</td>\n",
       "      <td>High/ Low</td>\n",
       "      <td>ST</td>\n",
       "      <td>7</td>\n",
       "      <td>6.166667</td>\n",
       "      <td>183</td>\n",
       "    </tr>\n",
       "    <tr>\n",
       "      <th>2</th>\n",
       "      <td>Neymar Jr</td>\n",
       "      <td>26</td>\n",
       "      <td>Brazil</td>\n",
       "      <td>92</td>\n",
       "      <td>93</td>\n",
       "      <td>Paris Saint-Germain</td>\n",
       "      <td>Right</td>\n",
       "      <td>5</td>\n",
       "      <td>5</td>\n",
       "      <td>5</td>\n",
       "      <td>High/ Medium</td>\n",
       "      <td>LW</td>\n",
       "      <td>10</td>\n",
       "      <td>5.750000</td>\n",
       "      <td>150</td>\n",
       "    </tr>\n",
       "    <tr>\n",
       "      <th>3</th>\n",
       "      <td>De Gea</td>\n",
       "      <td>27</td>\n",
       "      <td>Spain</td>\n",
       "      <td>91</td>\n",
       "      <td>93</td>\n",
       "      <td>Manchester United</td>\n",
       "      <td>Right</td>\n",
       "      <td>4</td>\n",
       "      <td>3</td>\n",
       "      <td>1</td>\n",
       "      <td>Medium/ Medium</td>\n",
       "      <td>GK</td>\n",
       "      <td>1</td>\n",
       "      <td>6.333333</td>\n",
       "      <td>168</td>\n",
       "    </tr>\n",
       "    <tr>\n",
       "      <th>4</th>\n",
       "      <td>K. De Bruyne</td>\n",
       "      <td>27</td>\n",
       "      <td>Belgium</td>\n",
       "      <td>91</td>\n",
       "      <td>92</td>\n",
       "      <td>Manchester City</td>\n",
       "      <td>Right</td>\n",
       "      <td>4</td>\n",
       "      <td>5</td>\n",
       "      <td>4</td>\n",
       "      <td>High/ High</td>\n",
       "      <td>RCM</td>\n",
       "      <td>7</td>\n",
       "      <td>5.083333</td>\n",
       "      <td>154</td>\n",
       "    </tr>\n",
       "  </tbody>\n",
       "</table>\n",
       "</div>"
      ],
      "text/plain": [
       "                Name  Age Nationality  Overall_rating  Potential  \\\n",
       "0           L. Messi   31   Argentina              94         94   \n",
       "1  Cristiano Ronaldo   33    Portugal              94         94   \n",
       "2          Neymar Jr   26      Brazil              92         93   \n",
       "3             De Gea   27       Spain              91         93   \n",
       "4       K. De Bruyne   27     Belgium              91         92   \n",
       "\n",
       "                  Club Preferred Foot  International Reputation  Weak Foot  \\\n",
       "0         FC Barcelona           Left                         5          4   \n",
       "1             Juventus          Right                         5          4   \n",
       "2  Paris Saint-Germain          Right                         5          5   \n",
       "3    Manchester United          Right                         4          3   \n",
       "4      Manchester City          Right                         4          5   \n",
       "\n",
       "   Skill Moves       Work Rate Position  Jersey Number    Height  Weight  \n",
       "0            4  Medium/ Medium       RF             10  5.583333     159  \n",
       "1            5       High/ Low       ST              7  6.166667     183  \n",
       "2            5    High/ Medium       LW             10  5.750000     150  \n",
       "3            1  Medium/ Medium       GK              1  6.333333     168  \n",
       "4            4      High/ High      RCM              7  5.083333     154  "
      ]
     },
     "execution_count": 3,
     "metadata": {},
     "output_type": "execute_result"
    }
   ],
   "source": [
    "fifa.head()"
   ]
  },
  {
   "cell_type": "code",
   "execution_count": 4,
   "id": "112405fb-cde5-47f2-890f-3ec753e672c0",
   "metadata": {},
   "outputs": [
    {
     "name": "stdout",
     "output_type": "stream",
     "text": [
      "<class 'pandas.core.frame.DataFrame'>\n",
      "RangeIndex: 2000 entries, 0 to 1999\n",
      "Data columns (total 15 columns):\n",
      " #   Column                    Non-Null Count  Dtype  \n",
      "---  ------                    --------------  -----  \n",
      " 0   Name                      2000 non-null   object \n",
      " 1   Age                       2000 non-null   int64  \n",
      " 2   Nationality               2000 non-null   object \n",
      " 3   Overall_rating            2000 non-null   int64  \n",
      " 4   Potential                 2000 non-null   int64  \n",
      " 5   Club                      1981 non-null   object \n",
      " 6   Preferred Foot            2000 non-null   object \n",
      " 7   International Reputation  2000 non-null   int64  \n",
      " 8   Weak Foot                 2000 non-null   int64  \n",
      " 9   Skill Moves               2000 non-null   int64  \n",
      " 10  Work Rate                 2000 non-null   object \n",
      " 11  Position                  2000 non-null   object \n",
      " 12  Jersey Number             2000 non-null   int64  \n",
      " 13  Height                    2000 non-null   float64\n",
      " 14  Weight                    2000 non-null   int64  \n",
      "dtypes: float64(1), int64(8), object(6)\n",
      "memory usage: 234.5+ KB\n"
     ]
    }
   ],
   "source": [
    "##information about data\n",
    "fifa.info()"
   ]
  },
  {
   "cell_type": "markdown",
   "id": "b44ee3b7-133b-443a-b43a-43f21ca6606b",
   "metadata": {},
   "source": [
    "## Data Preprocessing"
   ]
  },
  {
   "cell_type": "code",
   "execution_count": 5,
   "id": "241a7b9e-112f-4069-bcdf-5411831e9844",
   "metadata": {},
   "outputs": [
    {
     "data": {
      "text/plain": [
       "Name                         0\n",
       "Age                          0\n",
       "Nationality                  0\n",
       "Overall_rating               0\n",
       "Potential                    0\n",
       "Club                        19\n",
       "Preferred Foot               0\n",
       "International Reputation     0\n",
       "Weak Foot                    0\n",
       "Skill Moves                  0\n",
       "Work Rate                    0\n",
       "Position                     0\n",
       "Jersey Number                0\n",
       "Height                       0\n",
       "Weight                       0\n",
       "dtype: int64"
      ]
     },
     "execution_count": 5,
     "metadata": {},
     "output_type": "execute_result"
    }
   ],
   "source": [
    "fifa.isnull().sum()"
   ]
  },
  {
   "cell_type": "code",
   "execution_count": 6,
   "id": "988bf768-a1b1-421b-996c-5899520ca643",
   "metadata": {},
   "outputs": [
    {
     "data": {
      "text/plain": [
       "(2000, 15)"
      ]
     },
     "execution_count": 6,
     "metadata": {},
     "output_type": "execute_result"
    }
   ],
   "source": [
    "fifa.shape"
   ]
  },
  {
   "cell_type": "code",
   "execution_count": 7,
   "id": "dee2f2f8-635f-4851-a269-40f75d378d77",
   "metadata": {},
   "outputs": [],
   "source": [
    "#cleaning data\n",
    "fifa.dropna(inplace=True)"
   ]
  },
  {
   "cell_type": "code",
   "execution_count": 8,
   "id": "04b39db1-5dc9-40cc-886f-e2cd1e05444c",
   "metadata": {},
   "outputs": [
    {
     "data": {
      "text/html": [
       "<div>\n",
       "<style scoped>\n",
       "    .dataframe tbody tr th:only-of-type {\n",
       "        vertical-align: middle;\n",
       "    }\n",
       "\n",
       "    .dataframe tbody tr th {\n",
       "        vertical-align: top;\n",
       "    }\n",
       "\n",
       "    .dataframe thead th {\n",
       "        text-align: right;\n",
       "    }\n",
       "</style>\n",
       "<table border=\"1\" class=\"dataframe\">\n",
       "  <thead>\n",
       "    <tr style=\"text-align: right;\">\n",
       "      <th></th>\n",
       "      <th>Name</th>\n",
       "      <th>Age</th>\n",
       "      <th>Nationality</th>\n",
       "      <th>Overall_rating</th>\n",
       "      <th>Potential</th>\n",
       "      <th>Club</th>\n",
       "      <th>Preferred Foot</th>\n",
       "      <th>International Reputation</th>\n",
       "      <th>Weak Foot</th>\n",
       "      <th>Skill Moves</th>\n",
       "      <th>Work Rate</th>\n",
       "      <th>Position</th>\n",
       "      <th>Jersey Number</th>\n",
       "      <th>Height</th>\n",
       "      <th>Weight</th>\n",
       "    </tr>\n",
       "  </thead>\n",
       "  <tbody>\n",
       "    <tr>\n",
       "      <th>0</th>\n",
       "      <td>L. Messi</td>\n",
       "      <td>31</td>\n",
       "      <td>Argentina</td>\n",
       "      <td>94</td>\n",
       "      <td>94</td>\n",
       "      <td>FC Barcelona</td>\n",
       "      <td>Left</td>\n",
       "      <td>5</td>\n",
       "      <td>4</td>\n",
       "      <td>4</td>\n",
       "      <td>Medium/ Medium</td>\n",
       "      <td>RF</td>\n",
       "      <td>10</td>\n",
       "      <td>5.583333</td>\n",
       "      <td>159</td>\n",
       "    </tr>\n",
       "    <tr>\n",
       "      <th>1</th>\n",
       "      <td>Cristiano Ronaldo</td>\n",
       "      <td>33</td>\n",
       "      <td>Portugal</td>\n",
       "      <td>94</td>\n",
       "      <td>94</td>\n",
       "      <td>Juventus</td>\n",
       "      <td>Right</td>\n",
       "      <td>5</td>\n",
       "      <td>4</td>\n",
       "      <td>5</td>\n",
       "      <td>High/ Low</td>\n",
       "      <td>ST</td>\n",
       "      <td>7</td>\n",
       "      <td>6.166667</td>\n",
       "      <td>183</td>\n",
       "    </tr>\n",
       "    <tr>\n",
       "      <th>2</th>\n",
       "      <td>Neymar Jr</td>\n",
       "      <td>26</td>\n",
       "      <td>Brazil</td>\n",
       "      <td>92</td>\n",
       "      <td>93</td>\n",
       "      <td>Paris Saint-Germain</td>\n",
       "      <td>Right</td>\n",
       "      <td>5</td>\n",
       "      <td>5</td>\n",
       "      <td>5</td>\n",
       "      <td>High/ Medium</td>\n",
       "      <td>LW</td>\n",
       "      <td>10</td>\n",
       "      <td>5.750000</td>\n",
       "      <td>150</td>\n",
       "    </tr>\n",
       "    <tr>\n",
       "      <th>3</th>\n",
       "      <td>De Gea</td>\n",
       "      <td>27</td>\n",
       "      <td>Spain</td>\n",
       "      <td>91</td>\n",
       "      <td>93</td>\n",
       "      <td>Manchester United</td>\n",
       "      <td>Right</td>\n",
       "      <td>4</td>\n",
       "      <td>3</td>\n",
       "      <td>1</td>\n",
       "      <td>Medium/ Medium</td>\n",
       "      <td>GK</td>\n",
       "      <td>1</td>\n",
       "      <td>6.333333</td>\n",
       "      <td>168</td>\n",
       "    </tr>\n",
       "    <tr>\n",
       "      <th>4</th>\n",
       "      <td>K. De Bruyne</td>\n",
       "      <td>27</td>\n",
       "      <td>Belgium</td>\n",
       "      <td>91</td>\n",
       "      <td>92</td>\n",
       "      <td>Manchester City</td>\n",
       "      <td>Right</td>\n",
       "      <td>4</td>\n",
       "      <td>5</td>\n",
       "      <td>4</td>\n",
       "      <td>High/ High</td>\n",
       "      <td>RCM</td>\n",
       "      <td>7</td>\n",
       "      <td>5.083333</td>\n",
       "      <td>154</td>\n",
       "    </tr>\n",
       "    <tr>\n",
       "      <th>...</th>\n",
       "      <td>...</td>\n",
       "      <td>...</td>\n",
       "      <td>...</td>\n",
       "      <td>...</td>\n",
       "      <td>...</td>\n",
       "      <td>...</td>\n",
       "      <td>...</td>\n",
       "      <td>...</td>\n",
       "      <td>...</td>\n",
       "      <td>...</td>\n",
       "      <td>...</td>\n",
       "      <td>...</td>\n",
       "      <td>...</td>\n",
       "      <td>...</td>\n",
       "      <td>...</td>\n",
       "    </tr>\n",
       "    <tr>\n",
       "      <th>1995</th>\n",
       "      <td>R. BorrÃ©</td>\n",
       "      <td>22</td>\n",
       "      <td>Colombia</td>\n",
       "      <td>75</td>\n",
       "      <td>82</td>\n",
       "      <td>River Plate</td>\n",
       "      <td>Right</td>\n",
       "      <td>1</td>\n",
       "      <td>3</td>\n",
       "      <td>4</td>\n",
       "      <td>High/ Medium</td>\n",
       "      <td>RS</td>\n",
       "      <td>19</td>\n",
       "      <td>5.750000</td>\n",
       "      <td>157</td>\n",
       "    </tr>\n",
       "    <tr>\n",
       "      <th>1996</th>\n",
       "      <td>E. ZukanoviÄ‡</td>\n",
       "      <td>31</td>\n",
       "      <td>Bosnia Herzegovina</td>\n",
       "      <td>75</td>\n",
       "      <td>75</td>\n",
       "      <td>Genoa</td>\n",
       "      <td>Left</td>\n",
       "      <td>2</td>\n",
       "      <td>3</td>\n",
       "      <td>2</td>\n",
       "      <td>Low/ High</td>\n",
       "      <td>CB</td>\n",
       "      <td>87</td>\n",
       "      <td>6.250000</td>\n",
       "      <td>187</td>\n",
       "    </tr>\n",
       "    <tr>\n",
       "      <th>1997</th>\n",
       "      <td>A. Elis</td>\n",
       "      <td>22</td>\n",
       "      <td>Honduras</td>\n",
       "      <td>75</td>\n",
       "      <td>82</td>\n",
       "      <td>Houston Dynamo</td>\n",
       "      <td>Right</td>\n",
       "      <td>1</td>\n",
       "      <td>4</td>\n",
       "      <td>4</td>\n",
       "      <td>High/ Medium</td>\n",
       "      <td>RM</td>\n",
       "      <td>17</td>\n",
       "      <td>5.083333</td>\n",
       "      <td>170</td>\n",
       "    </tr>\n",
       "    <tr>\n",
       "      <th>1998</th>\n",
       "      <td>M. FernÃ¡ndez</td>\n",
       "      <td>32</td>\n",
       "      <td>Chile</td>\n",
       "      <td>75</td>\n",
       "      <td>75</td>\n",
       "      <td>Club Necaxa</td>\n",
       "      <td>Right</td>\n",
       "      <td>2</td>\n",
       "      <td>4</td>\n",
       "      <td>5</td>\n",
       "      <td>Medium/ Medium</td>\n",
       "      <td>LDM</td>\n",
       "      <td>14</td>\n",
       "      <td>5.083333</td>\n",
       "      <td>159</td>\n",
       "    </tr>\n",
       "    <tr>\n",
       "      <th>1999</th>\n",
       "      <td>D. RodrÃ­guez</td>\n",
       "      <td>28</td>\n",
       "      <td>Uruguay</td>\n",
       "      <td>75</td>\n",
       "      <td>75</td>\n",
       "      <td>Club Tijuana</td>\n",
       "      <td>Right</td>\n",
       "      <td>1</td>\n",
       "      <td>3</td>\n",
       "      <td>2</td>\n",
       "      <td>Medium/ Medium</td>\n",
       "      <td>RCM</td>\n",
       "      <td>15</td>\n",
       "      <td>5.583333</td>\n",
       "      <td>143</td>\n",
       "    </tr>\n",
       "  </tbody>\n",
       "</table>\n",
       "<p>1981 rows × 15 columns</p>\n",
       "</div>"
      ],
      "text/plain": [
       "                   Name  Age         Nationality  Overall_rating  Potential  \\\n",
       "0              L. Messi   31           Argentina              94         94   \n",
       "1     Cristiano Ronaldo   33            Portugal              94         94   \n",
       "2             Neymar Jr   26              Brazil              92         93   \n",
       "3                De Gea   27               Spain              91         93   \n",
       "4          K. De Bruyne   27             Belgium              91         92   \n",
       "...                 ...  ...                 ...             ...        ...   \n",
       "1995          R. BorrÃ©   22            Colombia              75         82   \n",
       "1996      E. ZukanoviÄ‡   31  Bosnia Herzegovina              75         75   \n",
       "1997            A. Elis   22            Honduras              75         82   \n",
       "1998      M. FernÃ¡ndez   32               Chile              75         75   \n",
       "1999      D. RodrÃ­guez   28             Uruguay              75         75   \n",
       "\n",
       "                     Club Preferred Foot  International Reputation  Weak Foot  \\\n",
       "0            FC Barcelona           Left                         5          4   \n",
       "1                Juventus          Right                         5          4   \n",
       "2     Paris Saint-Germain          Right                         5          5   \n",
       "3       Manchester United          Right                         4          3   \n",
       "4         Manchester City          Right                         4          5   \n",
       "...                   ...            ...                       ...        ...   \n",
       "1995          River Plate          Right                         1          3   \n",
       "1996                Genoa           Left                         2          3   \n",
       "1997       Houston Dynamo          Right                         1          4   \n",
       "1998          Club Necaxa          Right                         2          4   \n",
       "1999         Club Tijuana          Right                         1          3   \n",
       "\n",
       "      Skill Moves       Work Rate Position  Jersey Number    Height  Weight  \n",
       "0               4  Medium/ Medium       RF             10  5.583333     159  \n",
       "1               5       High/ Low       ST              7  6.166667     183  \n",
       "2               5    High/ Medium       LW             10  5.750000     150  \n",
       "3               1  Medium/ Medium       GK              1  6.333333     168  \n",
       "4               4      High/ High      RCM              7  5.083333     154  \n",
       "...           ...             ...      ...            ...       ...     ...  \n",
       "1995            4    High/ Medium       RS             19  5.750000     157  \n",
       "1996            2       Low/ High       CB             87  6.250000     187  \n",
       "1997            4    High/ Medium       RM             17  5.083333     170  \n",
       "1998            5  Medium/ Medium      LDM             14  5.083333     159  \n",
       "1999            2  Medium/ Medium      RCM             15  5.583333     143  \n",
       "\n",
       "[1981 rows x 15 columns]"
      ]
     },
     "execution_count": 8,
     "metadata": {},
     "output_type": "execute_result"
    }
   ],
   "source": [
    "fifa"
   ]
  },
  {
   "cell_type": "code",
   "execution_count": 9,
   "id": "294d7f8e-d65e-4c8a-aaa6-522e1eb581b7",
   "metadata": {},
   "outputs": [
    {
     "data": {
      "text/html": [
       "<div>\n",
       "<style scoped>\n",
       "    .dataframe tbody tr th:only-of-type {\n",
       "        vertical-align: middle;\n",
       "    }\n",
       "\n",
       "    .dataframe tbody tr th {\n",
       "        vertical-align: top;\n",
       "    }\n",
       "\n",
       "    .dataframe thead th {\n",
       "        text-align: right;\n",
       "    }\n",
       "</style>\n",
       "<table border=\"1\" class=\"dataframe\">\n",
       "  <thead>\n",
       "    <tr style=\"text-align: right;\">\n",
       "      <th></th>\n",
       "      <th>Age</th>\n",
       "      <th>Overall_rating</th>\n",
       "      <th>Potential</th>\n",
       "      <th>International Reputation</th>\n",
       "      <th>Weak Foot</th>\n",
       "      <th>Skill Moves</th>\n",
       "      <th>Jersey Number</th>\n",
       "      <th>Height</th>\n",
       "      <th>Weight</th>\n",
       "    </tr>\n",
       "  </thead>\n",
       "  <tbody>\n",
       "    <tr>\n",
       "      <th>count</th>\n",
       "      <td>1981.000000</td>\n",
       "      <td>1981.000000</td>\n",
       "      <td>1981.000000</td>\n",
       "      <td>1981.000000</td>\n",
       "      <td>1981.000000</td>\n",
       "      <td>1981.000000</td>\n",
       "      <td>1981.000000</td>\n",
       "      <td>1981.000000</td>\n",
       "      <td>1981.000000</td>\n",
       "    </tr>\n",
       "    <tr>\n",
       "      <th>mean</th>\n",
       "      <td>27.215548</td>\n",
       "      <td>78.212014</td>\n",
       "      <td>80.328117</td>\n",
       "      <td>1.777890</td>\n",
       "      <td>3.202928</td>\n",
       "      <td>2.920242</td>\n",
       "      <td>15.253407</td>\n",
       "      <td>5.781886</td>\n",
       "      <td>169.483089</td>\n",
       "    </tr>\n",
       "    <tr>\n",
       "      <th>std</th>\n",
       "      <td>3.852519</td>\n",
       "      <td>3.293624</td>\n",
       "      <td>4.118002</td>\n",
       "      <td>0.812861</td>\n",
       "      <td>0.730443</td>\n",
       "      <td>0.964888</td>\n",
       "      <td>13.247428</td>\n",
       "      <td>0.442515</td>\n",
       "      <td>16.053960</td>\n",
       "    </tr>\n",
       "    <tr>\n",
       "      <th>min</th>\n",
       "      <td>17.000000</td>\n",
       "      <td>75.000000</td>\n",
       "      <td>75.000000</td>\n",
       "      <td>1.000000</td>\n",
       "      <td>1.000000</td>\n",
       "      <td>1.000000</td>\n",
       "      <td>1.000000</td>\n",
       "      <td>5.083333</td>\n",
       "      <td>123.000000</td>\n",
       "    </tr>\n",
       "    <tr>\n",
       "      <th>25%</th>\n",
       "      <td>24.000000</td>\n",
       "      <td>76.000000</td>\n",
       "      <td>77.000000</td>\n",
       "      <td>1.000000</td>\n",
       "      <td>3.000000</td>\n",
       "      <td>2.000000</td>\n",
       "      <td>7.000000</td>\n",
       "      <td>5.500000</td>\n",
       "      <td>159.000000</td>\n",
       "    </tr>\n",
       "    <tr>\n",
       "      <th>50%</th>\n",
       "      <td>27.000000</td>\n",
       "      <td>77.000000</td>\n",
       "      <td>80.000000</td>\n",
       "      <td>2.000000</td>\n",
       "      <td>3.000000</td>\n",
       "      <td>3.000000</td>\n",
       "      <td>13.000000</td>\n",
       "      <td>6.000000</td>\n",
       "      <td>170.000000</td>\n",
       "    </tr>\n",
       "    <tr>\n",
       "      <th>75%</th>\n",
       "      <td>30.000000</td>\n",
       "      <td>80.000000</td>\n",
       "      <td>83.000000</td>\n",
       "      <td>2.000000</td>\n",
       "      <td>4.000000</td>\n",
       "      <td>4.000000</td>\n",
       "      <td>20.000000</td>\n",
       "      <td>6.166667</td>\n",
       "      <td>181.000000</td>\n",
       "    </tr>\n",
       "    <tr>\n",
       "      <th>max</th>\n",
       "      <td>40.000000</td>\n",
       "      <td>94.000000</td>\n",
       "      <td>95.000000</td>\n",
       "      <td>5.000000</td>\n",
       "      <td>5.000000</td>\n",
       "      <td>5.000000</td>\n",
       "      <td>99.000000</td>\n",
       "      <td>6.583333</td>\n",
       "      <td>227.000000</td>\n",
       "    </tr>\n",
       "  </tbody>\n",
       "</table>\n",
       "</div>"
      ],
      "text/plain": [
       "               Age  Overall_rating    Potential  International Reputation  \\\n",
       "count  1981.000000     1981.000000  1981.000000               1981.000000   \n",
       "mean     27.215548       78.212014    80.328117                  1.777890   \n",
       "std       3.852519        3.293624     4.118002                  0.812861   \n",
       "min      17.000000       75.000000    75.000000                  1.000000   \n",
       "25%      24.000000       76.000000    77.000000                  1.000000   \n",
       "50%      27.000000       77.000000    80.000000                  2.000000   \n",
       "75%      30.000000       80.000000    83.000000                  2.000000   \n",
       "max      40.000000       94.000000    95.000000                  5.000000   \n",
       "\n",
       "         Weak Foot  Skill Moves  Jersey Number       Height       Weight  \n",
       "count  1981.000000  1981.000000    1981.000000  1981.000000  1981.000000  \n",
       "mean      3.202928     2.920242      15.253407     5.781886   169.483089  \n",
       "std       0.730443     0.964888      13.247428     0.442515    16.053960  \n",
       "min       1.000000     1.000000       1.000000     5.083333   123.000000  \n",
       "25%       3.000000     2.000000       7.000000     5.500000   159.000000  \n",
       "50%       3.000000     3.000000      13.000000     6.000000   170.000000  \n",
       "75%       4.000000     4.000000      20.000000     6.166667   181.000000  \n",
       "max       5.000000     5.000000      99.000000     6.583333   227.000000  "
      ]
     },
     "execution_count": 9,
     "metadata": {},
     "output_type": "execute_result"
    }
   ],
   "source": [
    "fifa.describe()"
   ]
  },
  {
   "cell_type": "code",
   "execution_count": 10,
   "id": "2a0c2e75-1815-452d-85fb-1ff386979c63",
   "metadata": {},
   "outputs": [],
   "source": [
    "#rounding off height column\n",
    "fifa.Height=round(fifa.Height,2)"
   ]
  },
  {
   "cell_type": "code",
   "execution_count": 11,
   "id": "5fb31ecb-5377-49ef-8cbe-3be62c2c6dbc",
   "metadata": {},
   "outputs": [
    {
     "data": {
      "text/html": [
       "<div>\n",
       "<style scoped>\n",
       "    .dataframe tbody tr th:only-of-type {\n",
       "        vertical-align: middle;\n",
       "    }\n",
       "\n",
       "    .dataframe tbody tr th {\n",
       "        vertical-align: top;\n",
       "    }\n",
       "\n",
       "    .dataframe thead th {\n",
       "        text-align: right;\n",
       "    }\n",
       "</style>\n",
       "<table border=\"1\" class=\"dataframe\">\n",
       "  <thead>\n",
       "    <tr style=\"text-align: right;\">\n",
       "      <th></th>\n",
       "      <th>Name</th>\n",
       "      <th>Age</th>\n",
       "      <th>Nationality</th>\n",
       "      <th>Overall_rating</th>\n",
       "      <th>Potential</th>\n",
       "      <th>Club</th>\n",
       "      <th>Preferred Foot</th>\n",
       "      <th>International Reputation</th>\n",
       "      <th>Weak Foot</th>\n",
       "      <th>Skill Moves</th>\n",
       "      <th>Work Rate</th>\n",
       "      <th>Position</th>\n",
       "      <th>Jersey Number</th>\n",
       "      <th>Height</th>\n",
       "      <th>Weight</th>\n",
       "    </tr>\n",
       "  </thead>\n",
       "  <tbody>\n",
       "    <tr>\n",
       "      <th>0</th>\n",
       "      <td>L. Messi</td>\n",
       "      <td>31</td>\n",
       "      <td>Argentina</td>\n",
       "      <td>94</td>\n",
       "      <td>94</td>\n",
       "      <td>FC Barcelona</td>\n",
       "      <td>Left</td>\n",
       "      <td>5</td>\n",
       "      <td>4</td>\n",
       "      <td>4</td>\n",
       "      <td>Medium/ Medium</td>\n",
       "      <td>RF</td>\n",
       "      <td>10</td>\n",
       "      <td>5.58</td>\n",
       "      <td>159</td>\n",
       "    </tr>\n",
       "    <tr>\n",
       "      <th>1</th>\n",
       "      <td>Cristiano Ronaldo</td>\n",
       "      <td>33</td>\n",
       "      <td>Portugal</td>\n",
       "      <td>94</td>\n",
       "      <td>94</td>\n",
       "      <td>Juventus</td>\n",
       "      <td>Right</td>\n",
       "      <td>5</td>\n",
       "      <td>4</td>\n",
       "      <td>5</td>\n",
       "      <td>High/ Low</td>\n",
       "      <td>ST</td>\n",
       "      <td>7</td>\n",
       "      <td>6.17</td>\n",
       "      <td>183</td>\n",
       "    </tr>\n",
       "    <tr>\n",
       "      <th>2</th>\n",
       "      <td>Neymar Jr</td>\n",
       "      <td>26</td>\n",
       "      <td>Brazil</td>\n",
       "      <td>92</td>\n",
       "      <td>93</td>\n",
       "      <td>Paris Saint-Germain</td>\n",
       "      <td>Right</td>\n",
       "      <td>5</td>\n",
       "      <td>5</td>\n",
       "      <td>5</td>\n",
       "      <td>High/ Medium</td>\n",
       "      <td>LW</td>\n",
       "      <td>10</td>\n",
       "      <td>5.75</td>\n",
       "      <td>150</td>\n",
       "    </tr>\n",
       "    <tr>\n",
       "      <th>3</th>\n",
       "      <td>De Gea</td>\n",
       "      <td>27</td>\n",
       "      <td>Spain</td>\n",
       "      <td>91</td>\n",
       "      <td>93</td>\n",
       "      <td>Manchester United</td>\n",
       "      <td>Right</td>\n",
       "      <td>4</td>\n",
       "      <td>3</td>\n",
       "      <td>1</td>\n",
       "      <td>Medium/ Medium</td>\n",
       "      <td>GK</td>\n",
       "      <td>1</td>\n",
       "      <td>6.33</td>\n",
       "      <td>168</td>\n",
       "    </tr>\n",
       "    <tr>\n",
       "      <th>4</th>\n",
       "      <td>K. De Bruyne</td>\n",
       "      <td>27</td>\n",
       "      <td>Belgium</td>\n",
       "      <td>91</td>\n",
       "      <td>92</td>\n",
       "      <td>Manchester City</td>\n",
       "      <td>Right</td>\n",
       "      <td>4</td>\n",
       "      <td>5</td>\n",
       "      <td>4</td>\n",
       "      <td>High/ High</td>\n",
       "      <td>RCM</td>\n",
       "      <td>7</td>\n",
       "      <td>5.08</td>\n",
       "      <td>154</td>\n",
       "    </tr>\n",
       "    <tr>\n",
       "      <th>...</th>\n",
       "      <td>...</td>\n",
       "      <td>...</td>\n",
       "      <td>...</td>\n",
       "      <td>...</td>\n",
       "      <td>...</td>\n",
       "      <td>...</td>\n",
       "      <td>...</td>\n",
       "      <td>...</td>\n",
       "      <td>...</td>\n",
       "      <td>...</td>\n",
       "      <td>...</td>\n",
       "      <td>...</td>\n",
       "      <td>...</td>\n",
       "      <td>...</td>\n",
       "      <td>...</td>\n",
       "    </tr>\n",
       "    <tr>\n",
       "      <th>1995</th>\n",
       "      <td>R. BorrÃ©</td>\n",
       "      <td>22</td>\n",
       "      <td>Colombia</td>\n",
       "      <td>75</td>\n",
       "      <td>82</td>\n",
       "      <td>River Plate</td>\n",
       "      <td>Right</td>\n",
       "      <td>1</td>\n",
       "      <td>3</td>\n",
       "      <td>4</td>\n",
       "      <td>High/ Medium</td>\n",
       "      <td>RS</td>\n",
       "      <td>19</td>\n",
       "      <td>5.75</td>\n",
       "      <td>157</td>\n",
       "    </tr>\n",
       "    <tr>\n",
       "      <th>1996</th>\n",
       "      <td>E. ZukanoviÄ‡</td>\n",
       "      <td>31</td>\n",
       "      <td>Bosnia Herzegovina</td>\n",
       "      <td>75</td>\n",
       "      <td>75</td>\n",
       "      <td>Genoa</td>\n",
       "      <td>Left</td>\n",
       "      <td>2</td>\n",
       "      <td>3</td>\n",
       "      <td>2</td>\n",
       "      <td>Low/ High</td>\n",
       "      <td>CB</td>\n",
       "      <td>87</td>\n",
       "      <td>6.25</td>\n",
       "      <td>187</td>\n",
       "    </tr>\n",
       "    <tr>\n",
       "      <th>1997</th>\n",
       "      <td>A. Elis</td>\n",
       "      <td>22</td>\n",
       "      <td>Honduras</td>\n",
       "      <td>75</td>\n",
       "      <td>82</td>\n",
       "      <td>Houston Dynamo</td>\n",
       "      <td>Right</td>\n",
       "      <td>1</td>\n",
       "      <td>4</td>\n",
       "      <td>4</td>\n",
       "      <td>High/ Medium</td>\n",
       "      <td>RM</td>\n",
       "      <td>17</td>\n",
       "      <td>5.08</td>\n",
       "      <td>170</td>\n",
       "    </tr>\n",
       "    <tr>\n",
       "      <th>1998</th>\n",
       "      <td>M. FernÃ¡ndez</td>\n",
       "      <td>32</td>\n",
       "      <td>Chile</td>\n",
       "      <td>75</td>\n",
       "      <td>75</td>\n",
       "      <td>Club Necaxa</td>\n",
       "      <td>Right</td>\n",
       "      <td>2</td>\n",
       "      <td>4</td>\n",
       "      <td>5</td>\n",
       "      <td>Medium/ Medium</td>\n",
       "      <td>LDM</td>\n",
       "      <td>14</td>\n",
       "      <td>5.08</td>\n",
       "      <td>159</td>\n",
       "    </tr>\n",
       "    <tr>\n",
       "      <th>1999</th>\n",
       "      <td>D. RodrÃ­guez</td>\n",
       "      <td>28</td>\n",
       "      <td>Uruguay</td>\n",
       "      <td>75</td>\n",
       "      <td>75</td>\n",
       "      <td>Club Tijuana</td>\n",
       "      <td>Right</td>\n",
       "      <td>1</td>\n",
       "      <td>3</td>\n",
       "      <td>2</td>\n",
       "      <td>Medium/ Medium</td>\n",
       "      <td>RCM</td>\n",
       "      <td>15</td>\n",
       "      <td>5.58</td>\n",
       "      <td>143</td>\n",
       "    </tr>\n",
       "  </tbody>\n",
       "</table>\n",
       "<p>1981 rows × 15 columns</p>\n",
       "</div>"
      ],
      "text/plain": [
       "                   Name  Age         Nationality  Overall_rating  Potential  \\\n",
       "0              L. Messi   31           Argentina              94         94   \n",
       "1     Cristiano Ronaldo   33            Portugal              94         94   \n",
       "2             Neymar Jr   26              Brazil              92         93   \n",
       "3                De Gea   27               Spain              91         93   \n",
       "4          K. De Bruyne   27             Belgium              91         92   \n",
       "...                 ...  ...                 ...             ...        ...   \n",
       "1995          R. BorrÃ©   22            Colombia              75         82   \n",
       "1996      E. ZukanoviÄ‡   31  Bosnia Herzegovina              75         75   \n",
       "1997            A. Elis   22            Honduras              75         82   \n",
       "1998      M. FernÃ¡ndez   32               Chile              75         75   \n",
       "1999      D. RodrÃ­guez   28             Uruguay              75         75   \n",
       "\n",
       "                     Club Preferred Foot  International Reputation  Weak Foot  \\\n",
       "0            FC Barcelona           Left                         5          4   \n",
       "1                Juventus          Right                         5          4   \n",
       "2     Paris Saint-Germain          Right                         5          5   \n",
       "3       Manchester United          Right                         4          3   \n",
       "4         Manchester City          Right                         4          5   \n",
       "...                   ...            ...                       ...        ...   \n",
       "1995          River Plate          Right                         1          3   \n",
       "1996                Genoa           Left                         2          3   \n",
       "1997       Houston Dynamo          Right                         1          4   \n",
       "1998          Club Necaxa          Right                         2          4   \n",
       "1999         Club Tijuana          Right                         1          3   \n",
       "\n",
       "      Skill Moves       Work Rate Position  Jersey Number  Height  Weight  \n",
       "0               4  Medium/ Medium       RF             10    5.58     159  \n",
       "1               5       High/ Low       ST              7    6.17     183  \n",
       "2               5    High/ Medium       LW             10    5.75     150  \n",
       "3               1  Medium/ Medium       GK              1    6.33     168  \n",
       "4               4      High/ High      RCM              7    5.08     154  \n",
       "...           ...             ...      ...            ...     ...     ...  \n",
       "1995            4    High/ Medium       RS             19    5.75     157  \n",
       "1996            2       Low/ High       CB             87    6.25     187  \n",
       "1997            4    High/ Medium       RM             17    5.08     170  \n",
       "1998            5  Medium/ Medium      LDM             14    5.08     159  \n",
       "1999            2  Medium/ Medium      RCM             15    5.58     143  \n",
       "\n",
       "[1981 rows x 15 columns]"
      ]
     },
     "execution_count": 11,
     "metadata": {},
     "output_type": "execute_result"
    }
   ],
   "source": [
    "fifa"
   ]
  },
  {
   "cell_type": "code",
   "execution_count": 12,
   "id": "f12fd9ab-6e42-4167-985f-ee167d210957",
   "metadata": {},
   "outputs": [
    {
     "data": {
      "text/plain": [
       "Index(['Name', 'Age', 'Nationality', 'Overall_rating', 'Potential', 'Club',\n",
       "       'Preferred Foot', 'International Reputation', 'Weak Foot',\n",
       "       'Skill Moves', 'Work Rate', 'Position', 'Jersey Number', 'Height',\n",
       "       'Weight'],\n",
       "      dtype='object')"
      ]
     },
     "execution_count": 12,
     "metadata": {},
     "output_type": "execute_result"
    }
   ],
   "source": [
    "fifa.columns"
   ]
  },
  {
   "cell_type": "code",
   "execution_count": 13,
   "id": "284150f6-8aa7-4650-bbe9-0861df9680cd",
   "metadata": {},
   "outputs": [
    {
     "data": {
      "text/plain": [
       "9"
      ]
     },
     "execution_count": 13,
     "metadata": {},
     "output_type": "execute_result"
    }
   ],
   "source": [
    "nums=fifa.select_dtypes(include=np.number).columns\n",
    "len(nums)"
   ]
  },
  {
   "cell_type": "code",
   "execution_count": 14,
   "id": "d3b0337d-d8dd-4511-9b7d-1c1d356ab67a",
   "metadata": {},
   "outputs": [
    {
     "data": {
      "image/png": "[encoded data removed]",
      "text/plain": [
       "<Figure size 1440x1440 with 9 Axes>"
      ]
     },
     "metadata": {
      "needs_background": "light"
     },
     "output_type": "display_data"
    }
   ],
   "source": [
    "plt.figure(figsize=[20,20])\n",
    "n_rows=4\n",
    "n_cols=4\n",
    "counter=1\n",
    "for i in nums:\n",
    "    plt.subplot(n_rows,n_cols,counter)\n",
    "    sns.distplot(fifa.loc[:,i])\n",
    "    counter+=1"
   ]
  },
  {
   "cell_type": "code",
   "execution_count": 71,
   "id": "af35db98-988f-43ec-9c27-12289fe0c727",
   "metadata": {},
   "outputs": [
    {
     "data": {
      "image/png": "[encoded data removed]",
      "text/plain": [
       "<Figure size 576x576 with 2 Axes>"
      ]
     },
     "metadata": {
      "needs_background": "light"
     },
     "output_type": "display_data"
    }
   ],
   "source": [
    "#heat map to show the correlation bw variables\n",
    "plt.figure(figsize=[8,8])\n",
    "sns.heatmap(fifa.corr(),annot=True)\n",
    "plt.show()"
   ]
  },
  {
   "cell_type": "code",
   "execution_count": null,
   "id": "1ff3f049-b816-4980-a9e3-ec381f9bcf32",
   "metadata": {},
   "outputs": [],
   "source": []
  },
  {
   "cell_type": "code",
   "execution_count": 16,
   "id": "85dcc21b-b15d-4a99-8e27-ce5c6ff2ef4a",
   "metadata": {},
   "outputs": [],
   "source": [
    "import random\n",
    "from random import sample"
   ]
  },
  {
   "cell_type": "code",
   "execution_count": 17,
   "id": "4aabb153-b08e-4673-bad9-d8007382d23b",
   "metadata": {},
   "outputs": [],
   "source": [
    "#creating a sample of 200 players \n",
    "df=fifa.sample(200)"
   ]
  },
  {
   "cell_type": "code",
   "execution_count": 18,
   "id": "5809082c-0784-4a7d-b967-f5d5afb05c45",
   "metadata": {},
   "outputs": [
    {
     "name": "stdout",
     "output_type": "stream",
     "text": [
      "standard deviation of sample is  3.805721690814989\n",
      "standard deviation of population is  3.8525185996930396\n",
      "mean of sample is  27.17\n",
      "mean of population is  27.215547703180214\n",
      "standard error is  0.27241420264902505\n"
     ]
    }
   ],
   "source": [
    "sstd=df.Age.std()\n",
    "pstd=fifa.Age.std()\n",
    "smean=df.Age.mean()\n",
    "pmean=fifa.Age.mean()\n",
    "standard_error=pstd/np.sqrt(200)\n",
    "print('standard deviation of sample is ', sstd)\n",
    "print('standard deviation of population is ', pstd)\n",
    "print('mean of sample is ',smean)\n",
    "print('mean of population is ', pmean)\n",
    "print('standard error is ',standard_error)"
   ]
  },
  {
   "cell_type": "code",
   "execution_count": 19,
   "id": "8f5bffc0-ffa9-4c4d-bd22-c655598ffc5a",
   "metadata": {},
   "outputs": [],
   "source": [
    "##this is assumed that mean and standard deviation of population and sample is same or nearby"
   ]
  },
  {
   "cell_type": "code",
   "execution_count": 20,
   "id": "83345dc1-5075-4f8e-a341-d43276bccfb3",
   "metadata": {},
   "outputs": [],
   "source": [
    "#2\n",
    "#Ho: overall_rating=80\n",
    "#Ha:overall_rating!=80"
   ]
  },
  {
   "cell_type": "code",
   "execution_count": 22,
   "id": "07ea584b-52b8-4bf8-848f-b5db75d9e9ff",
   "metadata": {},
   "outputs": [],
   "source": [
    "from scipy import stats"
   ]
  },
  {
   "cell_type": "code",
   "execution_count": 23,
   "id": "00820b36-86d3-41d9-a4dc-57def4fb245d",
   "metadata": {},
   "outputs": [
    {
     "data": {
      "text/plain": [
       "Ttest_1sampResult(statistic=-24.161970492711205, pvalue=3.000694684666212e-113)"
      ]
     },
     "execution_count": 23,
     "metadata": {},
     "output_type": "execute_result"
    }
   ],
   "source": [
    "stats.ttest_1samp(fifa.Overall_rating,80) #i sample t-test"
   ]
  },
  {
   "cell_type": "code",
   "execution_count": 24,
   "id": "638dc159-2ad7-48ec-8536-7c31f27e26c3",
   "metadata": {},
   "outputs": [],
   "source": [
    "#as the p value if less then the 0.05 so we reject the null hypothesis"
   ]
  },
  {
   "cell_type": "code",
   "execution_count": 25,
   "id": "b9a52f96-c79a-4a9c-8ff7-f88a3a2ddc9a",
   "metadata": {},
   "outputs": [],
   "source": [
    "#3\n",
    "#Ho: prefered foot has no effect on potential\n",
    "#Ha: prefered foot has impact on potential"
   ]
  },
  {
   "cell_type": "code",
   "execution_count": 26,
   "id": "56c04b37-4993-4817-9636-c9ae06c60f1e",
   "metadata": {},
   "outputs": [],
   "source": [
    "#creating variables containing left foot and right foot potential\n",
    "left_foot=fifa.loc[fifa['Preferred Foot']=='Left','Potential']\n",
    "right_foot=fifa.loc[fifa['Preferred Foot']=='Right','Potential']"
   ]
  },
  {
   "cell_type": "code",
   "execution_count": 27,
   "id": "af680021-e460-4fc1-acdb-3abcec0dc1b6",
   "metadata": {},
   "outputs": [
    {
     "data": {
      "text/plain": [
       "Ttest_indResult(statistic=1.6316202307100005, pvalue=0.1029186188520214)"
      ]
     },
     "execution_count": 27,
     "metadata": {},
     "output_type": "execute_result"
    }
   ],
   "source": [
    "#t-test\n",
    "stats.ttest_ind(left_foot,right_foot)"
   ]
  },
  {
   "cell_type": "code",
   "execution_count": 28,
   "id": "f5ef8f0e-4721-4660-8db9-62746e44a33e",
   "metadata": {},
   "outputs": [],
   "source": [
    "# as Pvalue is grater then 0.05 so we failed to reject the null hypothesis"
   ]
  },
  {
   "cell_type": "code",
   "execution_count": 29,
   "id": "380e1ff1-0653-476e-a4da-71b785329f9e",
   "metadata": {},
   "outputs": [],
   "source": [
    "#Ho: overall rating is not dependent on potential\n",
    "#Ha: overall rating is dependent on potential\n"
   ]
  },
  {
   "cell_type": "code",
   "execution_count": 30,
   "id": "8bac465e-9753-4037-b8aa-e4a26d963527",
   "metadata": {},
   "outputs": [
    {
     "data": {
      "text/plain": [
       "Ttest_indResult(statistic=-17.86119755089141, pvalue=1.0957726628240538e-68)"
      ]
     },
     "execution_count": 30,
     "metadata": {},
     "output_type": "execute_result"
    }
   ],
   "source": [
    "#T-test\n",
    "stats.ttest_ind(fifa.Overall_rating,fifa.Potential)"
   ]
  },
  {
   "cell_type": "code",
   "execution_count": 31,
   "id": "84e80058-4483-48ee-b309-55a9d311c86c",
   "metadata": {},
   "outputs": [],
   "source": [
    "#as p value is less then 0.05 then we reject the null hypothesis"
   ]
  },
  {
   "cell_type": "code",
   "execution_count": 32,
   "id": "dffa5234-7980-4336-a3a7-a02f38da7dc1",
   "metadata": {},
   "outputs": [],
   "source": [
    "#Ho: skill_move has no effect on Overall Rating\n",
    "#Ha: skill_move has effect on Overall_Rating\n"
   ]
  },
  {
   "cell_type": "code",
   "execution_count": 33,
   "id": "e720d11b-620d-41ab-b522-c4b5a76c5087",
   "metadata": {},
   "outputs": [
    {
     "data": {
      "text/plain": [
       "Ttest_indResult(statistic=-976.418893273434, pvalue=0.0)"
      ]
     },
     "execution_count": 33,
     "metadata": {},
     "output_type": "execute_result"
    }
   ],
   "source": [
    "stats.ttest_ind(fifa['Skill Moves'],fifa['Overall_rating'])"
   ]
  },
  {
   "cell_type": "code",
   "execution_count": 34,
   "id": "0eaf4772-3735-4a29-8216-141f227a1ead",
   "metadata": {},
   "outputs": [],
   "source": [
    "#as p value is 0 so we fail to reject reject hte null hypothesis"
   ]
  },
  {
   "cell_type": "code",
   "execution_count": 35,
   "id": "2d7329fc-f59a-4ef7-a281-2c94584b195a",
   "metadata": {},
   "outputs": [
    {
     "data": {
      "image/png": "[encoded data removed]",
      "text/plain": [
       "<Figure size 432x288 with 1 Axes>"
      ]
     },
     "metadata": {
      "needs_background": "light"
     },
     "output_type": "display_data"
    }
   ],
   "source": [
    "sns.boxplot(fifa['Skill Moves'],fifa['Overall_rating'])\n",
    "#box plot to show the relation \n",
    "plt.show()"
   ]
  },
  {
   "cell_type": "markdown",
   "id": "f7352b06-eb24-4c5d-86e0-2ecacba928ec",
   "metadata": {},
   "source": [
    "## Phone Dataset"
   ]
  },
  {
   "cell_type": "code",
   "execution_count": 36,
   "id": "5175d8ec-c45c-4192-8c04-7bee00adb2b7",
   "metadata": {},
   "outputs": [],
   "source": [
    "phone=pd.read_csv('phone.csv')"
   ]
  },
  {
   "cell_type": "code",
   "execution_count": 37,
   "id": "aef6c734-c880-44be-ad78-0ca62a990cd3",
   "metadata": {},
   "outputs": [
    {
     "data": {
      "text/html": [
       "<div>\n",
       "<style scoped>\n",
       "    .dataframe tbody tr th:only-of-type {\n",
       "        vertical-align: middle;\n",
       "    }\n",
       "\n",
       "    .dataframe tbody tr th {\n",
       "        vertical-align: top;\n",
       "    }\n",
       "\n",
       "    .dataframe thead th {\n",
       "        text-align: right;\n",
       "    }\n",
       "</style>\n",
       "<table border=\"1\" class=\"dataframe\">\n",
       "  <thead>\n",
       "    <tr style=\"text-align: right;\">\n",
       "      <th></th>\n",
       "      <th>date</th>\n",
       "      <th>duration</th>\n",
       "      <th>item</th>\n",
       "      <th>month</th>\n",
       "      <th>network</th>\n",
       "      <th>network_type</th>\n",
       "    </tr>\n",
       "  </thead>\n",
       "  <tbody>\n",
       "    <tr>\n",
       "      <th>0</th>\n",
       "      <td>15-10-14 6:58</td>\n",
       "      <td>221.321120</td>\n",
       "      <td>data</td>\n",
       "      <td>2014-11</td>\n",
       "      <td>data</td>\n",
       "      <td>data</td>\n",
       "    </tr>\n",
       "    <tr>\n",
       "      <th>1</th>\n",
       "      <td>15-10-14 6:58</td>\n",
       "      <td>81.610599</td>\n",
       "      <td>call</td>\n",
       "      <td>2014-11</td>\n",
       "      <td>Vodafone</td>\n",
       "      <td>mobile</td>\n",
       "    </tr>\n",
       "    <tr>\n",
       "      <th>2</th>\n",
       "      <td>15-10-14 14:46</td>\n",
       "      <td>143.109111</td>\n",
       "      <td>call</td>\n",
       "      <td>2014-11</td>\n",
       "      <td>Meteor</td>\n",
       "      <td>mobile</td>\n",
       "    </tr>\n",
       "    <tr>\n",
       "      <th>3</th>\n",
       "      <td>15-10-14 14:48</td>\n",
       "      <td>111.888670</td>\n",
       "      <td>call</td>\n",
       "      <td>2014-11</td>\n",
       "      <td>Tesco</td>\n",
       "      <td>mobile</td>\n",
       "    </tr>\n",
       "    <tr>\n",
       "      <th>4</th>\n",
       "      <td>15-10-14 17:27</td>\n",
       "      <td>246.695171</td>\n",
       "      <td>call</td>\n",
       "      <td>2014-11</td>\n",
       "      <td>Tesco</td>\n",
       "      <td>mobile</td>\n",
       "    </tr>\n",
       "  </tbody>\n",
       "</table>\n",
       "</div>"
      ],
      "text/plain": [
       "             date    duration  item    month   network network_type\n",
       "0   15-10-14 6:58  221.321120  data  2014-11      data         data\n",
       "1   15-10-14 6:58   81.610599  call  2014-11  Vodafone       mobile\n",
       "2  15-10-14 14:46  143.109111  call  2014-11    Meteor       mobile\n",
       "3  15-10-14 14:48  111.888670  call  2014-11     Tesco       mobile\n",
       "4  15-10-14 17:27  246.695171  call  2014-11     Tesco       mobile"
      ]
     },
     "execution_count": 37,
     "metadata": {},
     "output_type": "execute_result"
    }
   ],
   "source": [
    "phone.head()"
   ]
  },
  {
   "cell_type": "code",
   "execution_count": 38,
   "id": "af46ce9b-c5dd-4e94-a76e-c3171424bfa2",
   "metadata": {},
   "outputs": [
    {
     "data": {
      "text/plain": [
       "date            0\n",
       "duration        0\n",
       "item            0\n",
       "month           0\n",
       "network         0\n",
       "network_type    0\n",
       "dtype: int64"
      ]
     },
     "execution_count": 38,
     "metadata": {},
     "output_type": "execute_result"
    }
   ],
   "source": [
    "#checking null values\n",
    "phone.isnull().sum()"
   ]
  },
  {
   "cell_type": "code",
   "execution_count": 39,
   "id": "5dccffeb-a420-4a70-bc4f-674d4257e2e7",
   "metadata": {},
   "outputs": [
    {
     "name": "stdout",
     "output_type": "stream",
     "text": [
      "<class 'pandas.core.frame.DataFrame'>\n",
      "RangeIndex: 820 entries, 0 to 819\n",
      "Data columns (total 6 columns):\n",
      " #   Column        Non-Null Count  Dtype  \n",
      "---  ------        --------------  -----  \n",
      " 0   date          820 non-null    object \n",
      " 1   duration      820 non-null    float64\n",
      " 2   item          820 non-null    object \n",
      " 3   month         820 non-null    object \n",
      " 4   network       820 non-null    object \n",
      " 5   network_type  820 non-null    object \n",
      "dtypes: float64(1), object(5)\n",
      "memory usage: 38.6+ KB\n"
     ]
    }
   ],
   "source": [
    "phone.info()"
   ]
  },
  {
   "cell_type": "code",
   "execution_count": 40,
   "id": "be3600f5-88a1-47b3-be5c-eb347a9c8a6c",
   "metadata": {},
   "outputs": [],
   "source": [
    "phone.duration=round(phone.duration,2)"
   ]
  },
  {
   "cell_type": "code",
   "execution_count": 41,
   "id": "3a69f869-2963-4a3e-bdda-4f5682e995a8",
   "metadata": {},
   "outputs": [
    {
     "data": {
      "text/html": [
       "<div>\n",
       "<style scoped>\n",
       "    .dataframe tbody tr th:only-of-type {\n",
       "        vertical-align: middle;\n",
       "    }\n",
       "\n",
       "    .dataframe tbody tr th {\n",
       "        vertical-align: top;\n",
       "    }\n",
       "\n",
       "    .dataframe thead th {\n",
       "        text-align: right;\n",
       "    }\n",
       "</style>\n",
       "<table border=\"1\" class=\"dataframe\">\n",
       "  <thead>\n",
       "    <tr style=\"text-align: right;\">\n",
       "      <th></th>\n",
       "      <th>date</th>\n",
       "      <th>duration</th>\n",
       "      <th>item</th>\n",
       "      <th>month</th>\n",
       "      <th>network</th>\n",
       "      <th>network_type</th>\n",
       "    </tr>\n",
       "  </thead>\n",
       "  <tbody>\n",
       "    <tr>\n",
       "      <th>0</th>\n",
       "      <td>15-10-14 6:58</td>\n",
       "      <td>221.32</td>\n",
       "      <td>data</td>\n",
       "      <td>2014-11</td>\n",
       "      <td>data</td>\n",
       "      <td>data</td>\n",
       "    </tr>\n",
       "    <tr>\n",
       "      <th>1</th>\n",
       "      <td>15-10-14 6:58</td>\n",
       "      <td>81.61</td>\n",
       "      <td>call</td>\n",
       "      <td>2014-11</td>\n",
       "      <td>Vodafone</td>\n",
       "      <td>mobile</td>\n",
       "    </tr>\n",
       "    <tr>\n",
       "      <th>2</th>\n",
       "      <td>15-10-14 14:46</td>\n",
       "      <td>143.11</td>\n",
       "      <td>call</td>\n",
       "      <td>2014-11</td>\n",
       "      <td>Meteor</td>\n",
       "      <td>mobile</td>\n",
       "    </tr>\n",
       "    <tr>\n",
       "      <th>3</th>\n",
       "      <td>15-10-14 14:48</td>\n",
       "      <td>111.89</td>\n",
       "      <td>call</td>\n",
       "      <td>2014-11</td>\n",
       "      <td>Tesco</td>\n",
       "      <td>mobile</td>\n",
       "    </tr>\n",
       "    <tr>\n",
       "      <th>4</th>\n",
       "      <td>15-10-14 17:27</td>\n",
       "      <td>246.70</td>\n",
       "      <td>call</td>\n",
       "      <td>2014-11</td>\n",
       "      <td>Tesco</td>\n",
       "      <td>mobile</td>\n",
       "    </tr>\n",
       "    <tr>\n",
       "      <th>...</th>\n",
       "      <td>...</td>\n",
       "      <td>...</td>\n",
       "      <td>...</td>\n",
       "      <td>...</td>\n",
       "      <td>...</td>\n",
       "      <td>...</td>\n",
       "    </tr>\n",
       "    <tr>\n",
       "      <th>815</th>\n",
       "      <td>10-03-15 6:58</td>\n",
       "      <td>185.33</td>\n",
       "      <td>data</td>\n",
       "      <td>2015-03</td>\n",
       "      <td>data</td>\n",
       "      <td>data</td>\n",
       "    </tr>\n",
       "    <tr>\n",
       "      <th>816</th>\n",
       "      <td>11-03-15 6:58</td>\n",
       "      <td>89.82</td>\n",
       "      <td>data</td>\n",
       "      <td>2015-03</td>\n",
       "      <td>data</td>\n",
       "      <td>data</td>\n",
       "    </tr>\n",
       "    <tr>\n",
       "      <th>817</th>\n",
       "      <td>12-03-15 6:58</td>\n",
       "      <td>117.60</td>\n",
       "      <td>data</td>\n",
       "      <td>2015-03</td>\n",
       "      <td>data</td>\n",
       "      <td>data</td>\n",
       "    </tr>\n",
       "    <tr>\n",
       "      <th>818</th>\n",
       "      <td>13-03-15 0:39</td>\n",
       "      <td>77.83</td>\n",
       "      <td>sms</td>\n",
       "      <td>2015-03</td>\n",
       "      <td>Vodafone</td>\n",
       "      <td>mobile</td>\n",
       "    </tr>\n",
       "    <tr>\n",
       "      <th>819</th>\n",
       "      <td>13-03-15 6:58</td>\n",
       "      <td>146.00</td>\n",
       "      <td>data</td>\n",
       "      <td>2015-03</td>\n",
       "      <td>data</td>\n",
       "      <td>data</td>\n",
       "    </tr>\n",
       "  </tbody>\n",
       "</table>\n",
       "<p>820 rows × 6 columns</p>\n",
       "</div>"
      ],
      "text/plain": [
       "               date  duration  item    month   network network_type\n",
       "0     15-10-14 6:58    221.32  data  2014-11      data         data\n",
       "1     15-10-14 6:58     81.61  call  2014-11  Vodafone       mobile\n",
       "2    15-10-14 14:46    143.11  call  2014-11    Meteor       mobile\n",
       "3    15-10-14 14:48    111.89  call  2014-11     Tesco       mobile\n",
       "4    15-10-14 17:27    246.70  call  2014-11     Tesco       mobile\n",
       "..              ...       ...   ...      ...       ...          ...\n",
       "815   10-03-15 6:58    185.33  data  2015-03      data         data\n",
       "816   11-03-15 6:58     89.82  data  2015-03      data         data\n",
       "817   12-03-15 6:58    117.60  data  2015-03      data         data\n",
       "818   13-03-15 0:39     77.83   sms  2015-03  Vodafone       mobile\n",
       "819   13-03-15 6:58    146.00  data  2015-03      data         data\n",
       "\n",
       "[820 rows x 6 columns]"
      ]
     },
     "execution_count": 41,
     "metadata": {},
     "output_type": "execute_result"
    }
   ],
   "source": [
    "phone"
   ]
  },
  {
   "cell_type": "code",
   "execution_count": 42,
   "id": "9f59620b-d835-4816-a14b-52e31ea5860e",
   "metadata": {},
   "outputs": [],
   "source": [
    "import statsmodels.formula.api as sfa\n",
    "from statsmodels.stats.anova import anova_lm"
   ]
  },
  {
   "cell_type": "code",
   "execution_count": 43,
   "id": "fbc6c692-0ea9-4237-961b-130e723692aa",
   "metadata": {},
   "outputs": [],
   "source": [
    "model=sfa.ols('duration~network',data=phone).fit()"
   ]
  },
  {
   "cell_type": "code",
   "execution_count": 44,
   "id": "2fc24a60-d077-4edd-9179-d49bf4d5e6ce",
   "metadata": {},
   "outputs": [
    {
     "data": {
      "text/html": [
       "<div>\n",
       "<style scoped>\n",
       "    .dataframe tbody tr th:only-of-type {\n",
       "        vertical-align: middle;\n",
       "    }\n",
       "\n",
       "    .dataframe tbody tr th {\n",
       "        vertical-align: top;\n",
       "    }\n",
       "\n",
       "    .dataframe thead th {\n",
       "        text-align: right;\n",
       "    }\n",
       "</style>\n",
       "<table border=\"1\" class=\"dataframe\">\n",
       "  <thead>\n",
       "    <tr style=\"text-align: right;\">\n",
       "      <th></th>\n",
       "      <th>df</th>\n",
       "      <th>sum_sq</th>\n",
       "      <th>mean_sq</th>\n",
       "      <th>F</th>\n",
       "      <th>PR(&gt;F)</th>\n",
       "    </tr>\n",
       "  </thead>\n",
       "  <tbody>\n",
       "    <tr>\n",
       "      <th>network</th>\n",
       "      <td>6.0</td>\n",
       "      <td>1.752713e+04</td>\n",
       "      <td>2921.188282</td>\n",
       "      <td>1.403595</td>\n",
       "      <td>0.210316</td>\n",
       "    </tr>\n",
       "    <tr>\n",
       "      <th>Residual</th>\n",
       "      <td>813.0</td>\n",
       "      <td>1.692031e+06</td>\n",
       "      <td>2081.219507</td>\n",
       "      <td>NaN</td>\n",
       "      <td>NaN</td>\n",
       "    </tr>\n",
       "  </tbody>\n",
       "</table>\n",
       "</div>"
      ],
      "text/plain": [
       "             df        sum_sq      mean_sq         F    PR(>F)\n",
       "network     6.0  1.752713e+04  2921.188282  1.403595  0.210316\n",
       "Residual  813.0  1.692031e+06  2081.219507       NaN       NaN"
      ]
     },
     "execution_count": 44,
     "metadata": {},
     "output_type": "execute_result"
    }
   ],
   "source": [
    "anova_lm(model)"
   ]
  },
  {
   "cell_type": "code",
   "execution_count": 45,
   "id": "9571d220-137c-470b-92b8-1271e4262c8a",
   "metadata": {},
   "outputs": [
    {
     "name": "stdout",
     "output_type": "stream",
     "text": [
      "critical interval at 95  (141.1836572645813, 147.4163427354187)\n",
      "critical interval at 99  (140.20443140735725, 148.39556859264277)\n"
     ]
    }
   ],
   "source": [
    "ci_95=stats.norm.interval(0.95,144.3,1.59) #interval at 95 \n",
    "ci_99=stats.norm.interval(0.99,144.3,1.59) #interval at 99 \n",
    "phone.duration.mean() # mean of phone population \n",
    "phone.duration.std()/np.sqrt(len(phone)) # standard deviation of population\n",
    "print('critical interval at 95 ',ci_95)\n",
    "print('critical interval at 99 ',ci_99)"
   ]
  },
  {
   "cell_type": "code",
   "execution_count": 46,
   "id": "e03403f4-5e00-4436-aa98-c1db9c6e25d7",
   "metadata": {},
   "outputs": [],
   "source": [
    "#2"
   ]
  },
  {
   "cell_type": "code",
   "execution_count": 47,
   "id": "b2596541-475a-4605-a3a7-b98b21d8614d",
   "metadata": {},
   "outputs": [
    {
     "data": {
      "text/plain": [
       "<AxesSubplot:>"
      ]
     },
     "execution_count": 47,
     "metadata": {},
     "output_type": "execute_result"
    },
    {
     "data": {
      "image/png": "[encoded data removed]",
      "text/plain": [
       "<Figure size 432x288 with 1 Axes>"
      ]
     },
     "metadata": {
      "needs_background": "light"
     },
     "output_type": "display_data"
    }
   ],
   "source": [
    "phone.network.value_counts().plot(kind='bar')"
   ]
  },
  {
   "cell_type": "code",
   "execution_count": null,
   "id": "9b9c26cf-cae0-41f0-9bcc-3d67e2dd1a33",
   "metadata": {},
   "outputs": [],
   "source": []
  },
  {
   "cell_type": "code",
   "execution_count": null,
   "id": "542a9216-f8ef-4e49-bb67-768dfc539bf6",
   "metadata": {},
   "outputs": [],
   "source": []
  },
  {
   "cell_type": "markdown",
   "id": "53bf824b-8246-4672-8feb-245cd430e603",
   "metadata": {},
   "source": [
    "## 2.c.Plot the distribution of duration with respect to each network in the same graph and interpret the results from the graph."
   ]
  },
  {
   "cell_type": "code",
   "execution_count": 67,
   "id": "a3fbe470-e546-470c-9f36-d73e03f2d84a",
   "metadata": {},
   "outputs": [
    {
     "data": {
      "image/png": "[encoded data removed]",
      "text/plain": [
       "<Figure size 360x360 with 1 Axes>"
      ]
     },
     "metadata": {
      "needs_background": "light"
     },
     "output_type": "display_data"
    }
   ],
   "source": [
    "plt.figure(figsize=[5,5])\n",
    "sns.boxplot(x=phone.duration,y=phone.network)\n",
    "plt.show()"
   ]
  },
  {
   "cell_type": "markdown",
   "id": "4f2fb0c2-25d9-4a2f-bc07-ff21fb9f5ae7",
   "metadata": {},
   "source": [
    "## 2d.\tPerform statistical tests to identify the relation between item and duration Detailed explanation of relation between the classes is required"
   ]
  },
  {
   "cell_type": "code",
   "execution_count": 49,
   "id": "86376a91-d4c0-4a6b-a278-a63fa22fa41c",
   "metadata": {},
   "outputs": [],
   "source": [
    "#Ho : item and duration are not related\n",
    "#Ha: item ad duration are related"
   ]
  },
  {
   "cell_type": "code",
   "execution_count": 68,
   "id": "46d23ed1-cc0d-4a70-aa89-ef428152953a",
   "metadata": {},
   "outputs": [],
   "source": [
    "data=phone.loc[phone['item']=='data','duration']\n",
    "call=phone.loc[phone['item']=='call','duration']\n",
    "sms=phone.loc[phone['item']=='sms','duration']"
   ]
  },
  {
   "cell_type": "code",
   "execution_count": 50,
   "id": "894dfa22-3abe-4a1c-bf62-54161fb99197",
   "metadata": {},
   "outputs": [
    {
     "data": {
      "text/plain": [
       "ShapiroResult(statistic=0.9984685778617859, pvalue=0.7015525698661804)"
      ]
     },
     "execution_count": 50,
     "metadata": {},
     "output_type": "execute_result"
    }
   ],
   "source": [
    "stats.shapiro(phone.duration) #shapiro test to check the normality\n",
    "#as p value is greater then 0.05 so we assume data is normal"
   ]
  },
  {
   "cell_type": "code",
   "execution_count": 69,
   "id": "01e0a9b8-d7af-41af-a3e6-298b17f5e8d5",
   "metadata": {},
   "outputs": [
    {
     "data": {
      "text/plain": [
       "(ShapiroResult(statistic=0.9912657141685486, pvalue=0.485398530960083),\n",
       " ShapiroResult(statistic=0.9973031878471375, pvalue=0.7800790667533875),\n",
       " ShapiroResult(statistic=0.9943408370018005, pvalue=0.3784627914428711))"
      ]
     },
     "execution_count": 69,
     "metadata": {},
     "output_type": "execute_result"
    }
   ],
   "source": [
    "#Ho: data call and sms are normally distributed\n",
    "#Ha: data call and sms are not normally distributed\n",
    "stats.shapiro(data),stats.shapiro(call),stats.shapiro(sms)"
   ]
  },
  {
   "cell_type": "code",
   "execution_count": 52,
   "id": "9cb757b8-828a-4483-a4a0-33232ca086a7",
   "metadata": {},
   "outputs": [],
   "source": [
    "#as all p values of data call and sms is greater then 0.05 so data is assumed to be normal"
   ]
  },
  {
   "cell_type": "code",
   "execution_count": 53,
   "id": "9d12bcaa-7524-45fc-a9ed-92cbcb5ea71d",
   "metadata": {},
   "outputs": [
    {
     "data": {
      "text/plain": [
       "array(['data', 'call', 'sms'], dtype=object)"
      ]
     },
     "execution_count": 53,
     "metadata": {},
     "output_type": "execute_result"
    }
   ],
   "source": [
    "phone.item.unique()"
   ]
  },
  {
   "cell_type": "code",
   "execution_count": 55,
   "id": "f8b939bf-2bb8-4634-b698-c45bb7b135bb",
   "metadata": {},
   "outputs": [
    {
     "data": {
      "text/plain": [
       "LeveneResult(statistic=3.429132769577386, pvalue=0.032882325942508214)"
      ]
     },
     "execution_count": 55,
     "metadata": {},
     "output_type": "execute_result"
    }
   ],
   "source": [
    "stats.levene(data,call,sms)"
   ]
  },
  {
   "cell_type": "code",
   "execution_count": 56,
   "id": "b5b621c8-5a32-45a9-9363-a8edfd9271dc",
   "metadata": {},
   "outputs": [],
   "source": [
    "#as p value data,call,sms is less then 0.05 so we reject the null hypothesis"
   ]
  },
  {
   "cell_type": "code",
   "execution_count": 57,
   "id": "d547b955-bcf9-4bbd-8f80-bd19e7c360e0",
   "metadata": {},
   "outputs": [
    {
     "data": {
      "text/plain": [
       "KruskalResult(statistic=3.5664911435628173, pvalue=0.16809170729130793)"
      ]
     },
     "execution_count": 57,
     "metadata": {},
     "output_type": "execute_result"
    }
   ],
   "source": [
    "\n",
    "stats.kruskal(data,call,sms)"
   ]
  },
  {
   "cell_type": "code",
   "execution_count": 58,
   "id": "2e08ffca-3787-49d3-a2f1-2be07018df89",
   "metadata": {},
   "outputs": [],
   "source": [
    "#as p value is greater the 0.05 then we fail to reject Ho"
   ]
  },
  {
   "cell_type": "markdown",
   "id": "ec636d5a-d07c-4e41-9903-b4e94b4b0b48",
   "metadata": {},
   "source": [
    "#### e)\tPerform statistical tests to identify the relation between network and network_type. "
   ]
  },
  {
   "cell_type": "code",
   "execution_count": 59,
   "id": "8057d5ab-7902-4ec6-aabc-b4881d1ac2e2",
   "metadata": {},
   "outputs": [],
   "source": [
    "#Ho: their is no relation between network and network_type\n",
    "#Ha: their is relation between network and network_type"
   ]
  },
  {
   "cell_type": "code",
   "execution_count": 60,
   "id": "bff455e5-1c99-4812-bc74-96d8a0b6cd82",
   "metadata": {
    "tags": []
   },
   "outputs": [],
   "source": [
    "from scipy.stats import chi2_contingency"
   ]
  },
  {
   "cell_type": "code",
   "execution_count": 61,
   "id": "66291886-a70c-43ce-ad19-aad7bd07aaae",
   "metadata": {},
   "outputs": [],
   "source": [
    "tbl=pd.crosstab(phone.network,phone.network_type)"
   ]
  },
  {
   "cell_type": "code",
   "execution_count": 62,
   "id": "fe6f2717-854b-4cb4-824d-53df6bd8c22c",
   "metadata": {},
   "outputs": [
    {
     "data": {
      "text/html": [
       "<div>\n",
       "<style scoped>\n",
       "    .dataframe tbody tr th:only-of-type {\n",
       "        vertical-align: middle;\n",
       "    }\n",
       "\n",
       "    .dataframe tbody tr th {\n",
       "        vertical-align: top;\n",
       "    }\n",
       "\n",
       "    .dataframe thead th {\n",
       "        text-align: right;\n",
       "    }\n",
       "</style>\n",
       "<table border=\"1\" class=\"dataframe\">\n",
       "  <thead>\n",
       "    <tr style=\"text-align: right;\">\n",
       "      <th>network_type</th>\n",
       "      <th>data</th>\n",
       "      <th>landline</th>\n",
       "      <th>mobile</th>\n",
       "      <th>voicemail</th>\n",
       "    </tr>\n",
       "    <tr>\n",
       "      <th>network</th>\n",
       "      <th></th>\n",
       "      <th></th>\n",
       "      <th></th>\n",
       "      <th></th>\n",
       "    </tr>\n",
       "  </thead>\n",
       "  <tbody>\n",
       "    <tr>\n",
       "      <th>Meteor</th>\n",
       "      <td>0</td>\n",
       "      <td>0</td>\n",
       "      <td>87</td>\n",
       "      <td>0</td>\n",
       "    </tr>\n",
       "    <tr>\n",
       "      <th>Tesco</th>\n",
       "      <td>0</td>\n",
       "      <td>0</td>\n",
       "      <td>84</td>\n",
       "      <td>0</td>\n",
       "    </tr>\n",
       "    <tr>\n",
       "      <th>Three</th>\n",
       "      <td>0</td>\n",
       "      <td>0</td>\n",
       "      <td>215</td>\n",
       "      <td>0</td>\n",
       "    </tr>\n",
       "    <tr>\n",
       "      <th>Vodafone</th>\n",
       "      <td>0</td>\n",
       "      <td>0</td>\n",
       "      <td>215</td>\n",
       "      <td>0</td>\n",
       "    </tr>\n",
       "    <tr>\n",
       "      <th>data</th>\n",
       "      <td>150</td>\n",
       "      <td>0</td>\n",
       "      <td>0</td>\n",
       "      <td>0</td>\n",
       "    </tr>\n",
       "    <tr>\n",
       "      <th>landline</th>\n",
       "      <td>0</td>\n",
       "      <td>42</td>\n",
       "      <td>0</td>\n",
       "      <td>0</td>\n",
       "    </tr>\n",
       "    <tr>\n",
       "      <th>voicemail</th>\n",
       "      <td>0</td>\n",
       "      <td>0</td>\n",
       "      <td>0</td>\n",
       "      <td>27</td>\n",
       "    </tr>\n",
       "  </tbody>\n",
       "</table>\n",
       "</div>"
      ],
      "text/plain": [
       "network_type  data  landline  mobile  voicemail\n",
       "network                                        \n",
       "Meteor           0         0      87          0\n",
       "Tesco            0         0      84          0\n",
       "Three            0         0     215          0\n",
       "Vodafone         0         0     215          0\n",
       "data           150         0       0          0\n",
       "landline         0        42       0          0\n",
       "voicemail        0         0       0         27"
      ]
     },
     "execution_count": 62,
     "metadata": {},
     "output_type": "execute_result"
    }
   ],
   "source": [
    "tbl"
   ]
  },
  {
   "cell_type": "code",
   "execution_count": 63,
   "id": "43abe4fa-a2aa-4949-b8d6-b7a0d7da9553",
   "metadata": {},
   "outputs": [],
   "source": [
    "stat,p,dof,expected=stats.chi2_contingency(tbl)"
   ]
  },
  {
   "cell_type": "code",
   "execution_count": 64,
   "id": "79316ebe-9fb0-4395-89a6-3966c52dec15",
   "metadata": {},
   "outputs": [
    {
     "data": {
      "text/plain": [
       "0.0"
      ]
     },
     "execution_count": 64,
     "metadata": {},
     "output_type": "execute_result"
    }
   ],
   "source": [
    "p"
   ]
  },
  {
   "cell_type": "code",
   "execution_count": 65,
   "id": "7b8fe350-1c7a-42e2-a372-9219acda4d8e",
   "metadata": {},
   "outputs": [],
   "source": [
    "#as p is 0 so we reject the null hypothesis"
   ]
  },
  {
   "cell_type": "code",
   "execution_count": null,
   "id": "4883ee5f-9242-4529-b817-f17a18969fe8",
   "metadata": {},
   "outputs": [],
   "source": []
  }
 ],
 "metadata": {
  "kernelspec": {
   "display_name": "Python 3 (ipykernel)",
   "language": "python",
   "name": "python3"
  },
  "language_info": {
   "codemirror_mode": {
    "name": "ipython",
    "version": 3
   },
   "file_extension": ".py",
   "mimetype": "text/x-python",
   "name": "python",
   "nbconvert_exporter": "python",
   "pygments_lexer": "ipython3",
   "version": "3.9.7"
  }
 },
 "nbformat": 4,
 "nbformat_minor": 5
}
